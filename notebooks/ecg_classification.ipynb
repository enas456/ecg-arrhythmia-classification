{
 "cells": [
  {
   "cell_type": "markdown",
   "id": "05598535",
   "metadata": {},
   "source": [
    "ECG Signal Processing and Segmentation \n",
    "Load Raw ECG Data:\n",
    "\n",
    "Reads a CSV file (100.csv) containing raw ECG signal data (MLII and V5 leads).\n",
    "\n",
    "Normalizes the ADC values to real voltages.\n",
    "\n",
    "Filter the Signal:\n",
    "\n",
    "Applies a bandpass filter (0.5–50 Hz) to remove baseline drift and noise from both ECG channels.\n",
    "\n",
    "Load Annotations:\n",
    "\n",
    "Reads heartbeat annotations from a text file (100annotations.txt).\n",
    "\n",
    "Fixes any placeholder symbols like + or \" by replacing them with the correct beat label from a backup column.\n",
    "\n",
    "Segment ECG Around Beats:\n",
    "\n",
    "For each labeled heartbeat, extracts a 1-second ECG window (360 samples before and after the beat).\n",
    "\n",
    "Flattens the 2-channel data (MLII & V5) into a feature vector of 720 values.\n",
    "\n",
    "Export Processed Data:\n",
    "\n",
    "Saves the segmented ECG beats to ecg_segments.xlsx.\n",
    "\n",
    "Saves the corresponding labels to ecg_labels.xlsx."
   ]
  },
  {
   "cell_type": "code",
   "execution_count": 7,
   "id": "f0deca83",
   "metadata": {},
   "outputs": [
    {
     "name": "stderr",
     "output_type": "stream",
     "text": [
      "C:\\Users\\ENAS.DESKTOP-CSI0DAD\\AppData\\Local\\Temp\\ipykernel_14708\\3841481848.py:43: SettingWithCopyWarning: \n",
      "A value is trying to be set on a copy of a slice from a DataFrame.\n",
      "Try using .loc[row_indexer,col_indexer] = value instead\n",
      "\n",
      "See the caveats in the documentation: https://pandas.pydata.org/pandas-docs/stable/user_guide/indexing.html#returning-a-view-versus-a-copy\n",
      "  data_info_cleaned['Sample_Type'] = data_info_cleaned['Sample_Type'].astype(int)\n"
     ]
    },
    {
     "name": "stdout",
     "output_type": "stream",
     "text": [
      "✅ Annotation cleanup complete: 1 placeholder labels were replaced.\n",
      "✅ Segmentation complete: 2271 valid ECG segments extracted.\n",
      "✅ Saved segments to: C:\\Users\\ENAS.DESKTOP-CSI0DAD\\Desktop\\ecg\\me\\dataset\\ecg_segments.xlsx\n",
      "✅ Saved labels to:   C:\\Users\\ENAS.DESKTOP-CSI0DAD\\Desktop\\ecg\\me\\dataset\\ecg_labels.xlsx\n"
     ]
    }
   ],
   "source": [
    "import numpy as np\n",
    "import pandas as pd\n",
    "from scipy.signal import firwin, filtfilt\n",
    "\n",
    "# === Stage 1: Load and Preprocess ECG Signal ===\n",
    "df = pd.read_csv(r'C:\\Users\\ENAS.DESKTOP-CSI0DAD\\Desktop\\ecg\\me\\dataset\\100.csv')\n",
    "orginal_data_ecg = df.to_numpy()\n",
    "\n",
    "# Normalize ADC signals (assumes ch1 and ch2 in cols 1 and 2)\n",
    "data_ecg_1 = (orginal_data_ecg[:, 1:3] - 1024) / 200\n",
    "data_ecg_2 = np.column_stack((orginal_data_ecg[:, 0], data_ecg_1))\n",
    "\n",
    "# Bandpass filter design (0.5–50 Hz)\n",
    "fs = 360\n",
    "low_freq = 0.5\n",
    "high_freq = 50\n",
    "nyquist_freq = fs / 2\n",
    "order = 100\n",
    "filter_coefficients = firwin(order + 1, [low_freq / nyquist_freq, high_freq / nyquist_freq], pass_zero='bandpass')\n",
    "\n",
    "# Apply zero-phase filtering\n",
    "filtered_ecg_1 = filtfilt(filter_coefficients, 1.0, data_ecg_2[:, 1])\n",
    "filtered_ecg_2 = filtfilt(filter_coefficients, 1.0, data_ecg_2[:, 2])\n",
    "new_data = np.column_stack((data_ecg_2[:, 0], filtered_ecg_1, filtered_ecg_2))\n",
    "\n",
    "# === Stage 2: Load and Clean Annotation Data ===\n",
    "data_info = pd.read_csv(r'C:\\Users\\ENAS.DESKTOP-CSI0DAD\\Desktop\\ecg\\me\\dataset\\100annotations.txt', delimiter='\\t', header=None)\n",
    "\n",
    "# Split annotation columns\n",
    "first_column_split = data_info.iloc[:, 0].astype(str).str.split(expand=True)\n",
    "first_column_split = first_column_split.rename(columns={0: 'Time', 1: 'Sample_Type', 2: 'SubChanNum'})\n",
    "first_column_split['FourthColumn'] = data_info.iloc[:, 1].astype(str)\n",
    "\n",
    "# Count and replace problematic SubChanNum entries\n",
    "mask = first_column_split['SubChanNum'].isin(['+', '\"']) | first_column_split['SubChanNum'].isna()\n",
    "num_replaced = mask.sum()\n",
    "\n",
    "first_column_split.loc[mask, 'SubChanNum'] = first_column_split.loc[mask, 'FourthColumn']\n",
    "\n",
    "# Convert sample index to int\n",
    "first_column_split['Sample_Type'] = pd.to_numeric(first_column_split['Sample_Type'], errors='coerce')\n",
    "data_info_cleaned = first_column_split.dropna(subset=['Sample_Type'])\n",
    "data_info_cleaned['Sample_Type'] = data_info_cleaned['Sample_Type'].astype(int)\n",
    "\n",
    "print(f\"✅ Annotation cleanup complete: {num_replaced} placeholder labels were replaced.\")\n",
    "\n",
    "# === Stage 3: Segment ECG Signal ===\n",
    "segments = []\n",
    "labels = []\n",
    "\n",
    "for _, row in data_info_cleaned.iterrows():\n",
    "    sample = row['Sample_Type']\n",
    "    label = row['SubChanNum']\n",
    "    start_idx = sample - 180\n",
    "    end_idx = sample + 180\n",
    "\n",
    "    segment = new_data[(new_data[:, 0] >= start_idx) & (new_data[:, 0] < end_idx), 1:]\n",
    "    if segment.shape[0] == 360:\n",
    "        flat_segment = segment.T.flatten()  # shape: (720,)\n",
    "        segments.append(flat_segment)\n",
    "        labels.append(label)\n",
    "\n",
    "print(f\"✅ Segmentation complete: {len(segments)} valid ECG segments extracted.\")\n",
    "\n",
    "# === Stage 4: Save to Separate Excel Files ===\n",
    "df_segments = pd.DataFrame(segments)\n",
    "df_labels = pd.DataFrame(labels, columns=[\"Label\"])\n",
    "\n",
    "segments_path = r'C:\\Users\\ENAS.DESKTOP-CSI0DAD\\Desktop\\ecg\\me\\dataset\\ecg_segments.xlsx'\n",
    "labels_path = r'C:\\Users\\ENAS.DESKTOP-CSI0DAD\\Desktop\\ecg\\me\\dataset\\ecg_labels.xlsx'\n",
    "\n",
    "df_segments.to_excel(segments_path, index=False)\n",
    "df_labels.to_excel(labels_path, index=False)\n",
    "\n",
    "print(f\"✅ Saved segments to: {segments_path}\")\n",
    "print(f\"✅ Saved labels to:   {labels_path}\")\n"
   ]
  },
  {
   "cell_type": "code",
   "execution_count": 8,
   "id": "ee5328d5",
   "metadata": {},
   "outputs": [
    {
     "name": "stdout",
     "output_type": "stream",
     "text": [
      "✅ Saved: 100_segments.xlsx and 100_labels.xlsx\n",
      "✅ Saved: 101_segments.xlsx and 101_labels.xlsx\n",
      "✅ Saved: 102_segments.xlsx and 102_labels.xlsx\n",
      "✅ Saved: 103_segments.xlsx and 103_labels.xlsx\n",
      "✅ Saved: 104_segments.xlsx and 104_labels.xlsx\n",
      "✅ Saved: 105_segments.xlsx and 105_labels.xlsx\n",
      "✅ Saved: 106_segments.xlsx and 106_labels.xlsx\n",
      "✅ Saved: 107_segments.xlsx and 107_labels.xlsx\n",
      "✅ Saved: 108_segments.xlsx and 108_labels.xlsx\n",
      "✅ Saved: 109_segments.xlsx and 109_labels.xlsx\n",
      "⚠️ Skipping record 110: files missing.\n",
      "✅ Saved: 111_segments.xlsx and 111_labels.xlsx\n",
      "✅ Saved: 112_segments.xlsx and 112_labels.xlsx\n",
      "✅ Saved: 113_segments.xlsx and 113_labels.xlsx\n",
      "✅ Saved: 114_segments.xlsx and 114_labels.xlsx\n",
      "✅ Saved: 115_segments.xlsx and 115_labels.xlsx\n",
      "✅ Saved: 116_segments.xlsx and 116_labels.xlsx\n",
      "✅ Saved: 117_segments.xlsx and 117_labels.xlsx\n",
      "✅ Saved: 118_segments.xlsx and 118_labels.xlsx\n",
      "✅ Saved: 119_segments.xlsx and 119_labels.xlsx\n",
      "⚠️ Skipping record 120: files missing.\n",
      "✅ Saved: 121_segments.xlsx and 121_labels.xlsx\n",
      "✅ Saved: 122_segments.xlsx and 122_labels.xlsx\n",
      "✅ Saved: 123_segments.xlsx and 123_labels.xlsx\n",
      "✅ Saved: 124_segments.xlsx and 124_labels.xlsx\n",
      "⚠️ Skipping record 125: files missing.\n",
      "⚠️ Skipping record 126: files missing.\n",
      "⚠️ Skipping record 127: files missing.\n",
      "⚠️ Skipping record 128: files missing.\n",
      "⚠️ Skipping record 129: files missing.\n",
      "⚠️ Skipping record 130: files missing.\n",
      "⚠️ Skipping record 131: files missing.\n",
      "⚠️ Skipping record 132: files missing.\n",
      "⚠️ Skipping record 133: files missing.\n",
      "⚠️ Skipping record 134: files missing.\n",
      "⚠️ Skipping record 135: files missing.\n",
      "⚠️ Skipping record 136: files missing.\n",
      "⚠️ Skipping record 137: files missing.\n",
      "⚠️ Skipping record 138: files missing.\n",
      "⚠️ Skipping record 139: files missing.\n",
      "⚠️ Skipping record 140: files missing.\n",
      "⚠️ Skipping record 141: files missing.\n",
      "⚠️ Skipping record 142: files missing.\n",
      "⚠️ Skipping record 143: files missing.\n",
      "⚠️ Skipping record 144: files missing.\n",
      "⚠️ Skipping record 145: files missing.\n",
      "⚠️ Skipping record 146: files missing.\n",
      "⚠️ Skipping record 147: files missing.\n",
      "⚠️ Skipping record 148: files missing.\n",
      "⚠️ Skipping record 149: files missing.\n",
      "⚠️ Skipping record 150: files missing.\n",
      "⚠️ Skipping record 151: files missing.\n",
      "⚠️ Skipping record 152: files missing.\n",
      "⚠️ Skipping record 153: files missing.\n",
      "⚠️ Skipping record 154: files missing.\n",
      "⚠️ Skipping record 155: files missing.\n",
      "⚠️ Skipping record 156: files missing.\n",
      "⚠️ Skipping record 157: files missing.\n",
      "⚠️ Skipping record 158: files missing.\n",
      "⚠️ Skipping record 159: files missing.\n",
      "⚠️ Skipping record 160: files missing.\n",
      "⚠️ Skipping record 161: files missing.\n",
      "⚠️ Skipping record 162: files missing.\n",
      "⚠️ Skipping record 163: files missing.\n",
      "⚠️ Skipping record 164: files missing.\n",
      "⚠️ Skipping record 165: files missing.\n",
      "⚠️ Skipping record 166: files missing.\n",
      "⚠️ Skipping record 167: files missing.\n",
      "⚠️ Skipping record 168: files missing.\n",
      "⚠️ Skipping record 169: files missing.\n",
      "⚠️ Skipping record 170: files missing.\n",
      "⚠️ Skipping record 171: files missing.\n",
      "⚠️ Skipping record 172: files missing.\n",
      "⚠️ Skipping record 173: files missing.\n",
      "⚠️ Skipping record 174: files missing.\n",
      "⚠️ Skipping record 175: files missing.\n",
      "⚠️ Skipping record 176: files missing.\n",
      "⚠️ Skipping record 177: files missing.\n",
      "⚠️ Skipping record 178: files missing.\n",
      "⚠️ Skipping record 179: files missing.\n",
      "⚠️ Skipping record 180: files missing.\n",
      "⚠️ Skipping record 181: files missing.\n",
      "⚠️ Skipping record 182: files missing.\n",
      "⚠️ Skipping record 183: files missing.\n",
      "⚠️ Skipping record 184: files missing.\n",
      "⚠️ Skipping record 185: files missing.\n",
      "⚠️ Skipping record 186: files missing.\n",
      "⚠️ Skipping record 187: files missing.\n",
      "⚠️ Skipping record 188: files missing.\n",
      "⚠️ Skipping record 189: files missing.\n",
      "⚠️ Skipping record 190: files missing.\n",
      "⚠️ Skipping record 191: files missing.\n",
      "⚠️ Skipping record 192: files missing.\n",
      "⚠️ Skipping record 193: files missing.\n",
      "⚠️ Skipping record 194: files missing.\n",
      "⚠️ Skipping record 195: files missing.\n",
      "⚠️ Skipping record 196: files missing.\n",
      "⚠️ Skipping record 197: files missing.\n",
      "⚠️ Skipping record 198: files missing.\n",
      "⚠️ Skipping record 199: files missing.\n",
      "✅ Saved: 200_segments.xlsx and 200_labels.xlsx\n",
      "✅ Saved: 201_segments.xlsx and 201_labels.xlsx\n",
      "✅ Saved: 202_segments.xlsx and 202_labels.xlsx\n",
      "✅ Saved: 203_segments.xlsx and 203_labels.xlsx\n",
      "⚠️ Skipping record 204: files missing.\n",
      "✅ Saved: 205_segments.xlsx and 205_labels.xlsx\n",
      "⚠️ Skipping record 206: files missing.\n",
      "✅ Saved: 207_segments.xlsx and 207_labels.xlsx\n",
      "✅ Saved: 208_segments.xlsx and 208_labels.xlsx\n",
      "✅ Saved: 209_segments.xlsx and 209_labels.xlsx\n",
      "✅ Saved: 210_segments.xlsx and 210_labels.xlsx\n",
      "⚠️ Skipping record 211: files missing.\n",
      "✅ Saved: 212_segments.xlsx and 212_labels.xlsx\n",
      "✅ Saved: 213_segments.xlsx and 213_labels.xlsx\n",
      "✅ Saved: 214_segments.xlsx and 214_labels.xlsx\n",
      "✅ Saved: 215_segments.xlsx and 215_labels.xlsx\n",
      "⚠️ Skipping record 216: files missing.\n",
      "✅ Saved: 217_segments.xlsx and 217_labels.xlsx\n",
      "⚠️ Skipping record 218: files missing.\n",
      "✅ Saved: 219_segments.xlsx and 219_labels.xlsx\n",
      "✅ Saved: 220_segments.xlsx and 220_labels.xlsx\n",
      "✅ Saved: 221_segments.xlsx and 221_labels.xlsx\n",
      "✅ Saved: 222_segments.xlsx and 222_labels.xlsx\n",
      "✅ Saved: 223_segments.xlsx and 223_labels.xlsx\n",
      "⚠️ Skipping record 224: files missing.\n",
      "⚠️ Skipping record 225: files missing.\n",
      "⚠️ Skipping record 226: files missing.\n",
      "⚠️ Skipping record 227: files missing.\n",
      "✅ Saved: 228_segments.xlsx and 228_labels.xlsx\n",
      "⚠️ Skipping record 229: files missing.\n",
      "✅ Saved: 230_segments.xlsx and 230_labels.xlsx\n",
      "✅ Saved: 231_segments.xlsx and 231_labels.xlsx\n",
      "✅ Saved: 232_segments.xlsx and 232_labels.xlsx\n",
      "✅ Saved: 233_segments.xlsx and 233_labels.xlsx\n",
      "✅ Saved: 234_segments.xlsx and 234_labels.xlsx\n"
     ]
    }
   ],
   "source": [
    "import numpy as np\n",
    "import pandas as pd\n",
    "from scipy.signal import firwin, filtfilt\n",
    "import os\n",
    "\n",
    "# === Settings ===\n",
    "input_folder = r'C:\\Users\\ENAS.DESKTOP-CSI0DAD\\Desktop\\ecg\\me\\dataset'\n",
    "output_folder = os.path.join(input_folder, 'ECG Signal Processing and Segmentation')\n",
    "os.makedirs(output_folder, exist_ok=True)  # Create folder if it doesn't exist\n",
    "\n",
    "record_ids = list(range(100, 235))  # Adjust based on available subjects\n",
    "fs = 360\n",
    "low_freq = 0.5\n",
    "high_freq = 50\n",
    "order = 100\n",
    "nyquist_freq = fs / 2\n",
    "filter_coefficients = firwin(order + 1, [low_freq / nyquist_freq, high_freq / nyquist_freq], pass_zero='bandpass')\n",
    "\n",
    "# === Loop Through Each Subject ===\n",
    "for record_id in record_ids:\n",
    "    try:\n",
    "        ecg_file = os.path.join(input_folder, f'{record_id}.csv')\n",
    "        ann_file = os.path.join(input_folder, f'{record_id}annotations.txt')\n",
    "\n",
    "        if not os.path.exists(ecg_file) or not os.path.exists(ann_file):\n",
    "            print(f\"⚠️ Skipping record {record_id}: files missing.\")\n",
    "            continue\n",
    "\n",
    "        # Load ECG data\n",
    "        df = pd.read_csv(ecg_file)\n",
    "        orginal_data_ecg = df.to_numpy()\n",
    "        data_ecg_1 = (orginal_data_ecg[:, 1:3] - 1024) / 200\n",
    "        data_ecg_2 = np.column_stack((orginal_data_ecg[:, 0], data_ecg_1))\n",
    "\n",
    "        # Apply filtering\n",
    "        filtered_ecg_1 = filtfilt(filter_coefficients, 1.0, data_ecg_2[:, 1])\n",
    "        filtered_ecg_2 = filtfilt(filter_coefficients, 1.0, data_ecg_2[:, 2])\n",
    "        new_data = np.column_stack((data_ecg_2[:, 0], filtered_ecg_1, filtered_ecg_2))\n",
    "\n",
    "        # Load and process annotation file\n",
    "        data_info = pd.read_csv(ann_file, delimiter='\\t', header=None)\n",
    "        first_column_split = data_info.iloc[:, 0].astype(str).str.split(expand=True)\n",
    "        first_column_split = first_column_split.rename(columns={0: 'Time', 1: 'Sample_Type', 2: 'SubChanNum'})\n",
    "        first_column_split['FourthColumn'] = data_info.iloc[:, 1].astype(str)\n",
    "\n",
    "        mask = first_column_split['SubChanNum'].isin(['+', '\"']) | first_column_split['SubChanNum'].isna()\n",
    "        first_column_split.loc[mask, 'SubChanNum'] = first_column_split.loc[mask, 'FourthColumn']\n",
    "\n",
    "        first_column_split['Sample_Type'] = pd.to_numeric(first_column_split['Sample_Type'], errors='coerce')\n",
    "        data_info_cleaned = first_column_split.dropna(subset=['Sample_Type']).copy()\n",
    "        data_info_cleaned['Sample_Type'] = data_info_cleaned['Sample_Type'].astype(int)\n",
    "\n",
    "        # Segment ECG\n",
    "        segments = []\n",
    "        labels = []\n",
    "\n",
    "        for _, row in data_info_cleaned.iterrows():\n",
    "            sample = row['Sample_Type']\n",
    "            label = row['SubChanNum']\n",
    "            start_idx = sample - 180\n",
    "            end_idx = sample + 180\n",
    "            segment = new_data[(new_data[:, 0] >= start_idx) & (new_data[:, 0] < end_idx), 1:]\n",
    "            if segment.shape[0] == 360:\n",
    "                flat_segment = segment.T.flatten()\n",
    "                segments.append(flat_segment)\n",
    "                labels.append(label)\n",
    "\n",
    "        # Save to new folder with original ID names\n",
    "        df_segments = pd.DataFrame(segments)\n",
    "        df_labels = pd.DataFrame(labels, columns=[\"Label\"])\n",
    "\n",
    "        segments_path = os.path.join(output_folder, f'{record_id}_segments.xlsx')\n",
    "        labels_path = os.path.join(output_folder, f'{record_id}_labels.xlsx')\n",
    "\n",
    "        df_segments.to_excel(segments_path, index=False)\n",
    "        df_labels.to_excel(labels_path, index=False)\n",
    "\n",
    "        print(f\"✅ Saved: {record_id}_segments.xlsx and {record_id}_labels.xlsx\")\n",
    "\n",
    "    except Exception as e:\n",
    "        print(f\"❌ Error processing record {record_id}: {e}\")\n"
   ]
  },
  {
   "cell_type": "markdown",
   "id": "c778ca42",
   "metadata": {},
   "source": [
    " Plot ECG Segments with Labels"
   ]
  },
  {
   "cell_type": "code",
   "execution_count": 6,
   "id": "e0b5bc56",
   "metadata": {},
   "outputs": [
    {
     "data": {
      "image/png": "[encoded data removed]",
      "text/plain": [
       "<Figure size 1400x1000 with 5 Axes>"
      ]
     },
     "metadata": {},
     "output_type": "display_data"
    }
   ],
   "source": [
    "import matplotlib.pyplot as plt\n",
    "import pandas as pd\n",
    "import numpy as np\n",
    "\n",
    "# === Load Excel Files ===\n",
    "segments_path = r'C:\\Users\\ENAS.DESKTOP-CSI0DAD\\Desktop\\ecg\\me\\dataset\\ecg_segments.xlsx'\n",
    "labels_path = r'C:\\Users\\ENAS.DESKTOP-CSI0DAD\\Desktop\\ecg\\me\\dataset\\ecg_labels.xlsx'\n",
    "\n",
    "df_segments = pd.read_excel(segments_path)\n",
    "df_labels = pd.read_excel(labels_path)\n",
    "\n",
    "# === Plot First 5 Segments ===\n",
    "num_examples = 5\n",
    "plt.figure(figsize=(14, 10))\n",
    "\n",
    "for i in range(num_examples):\n",
    "    segment = df_segments.iloc[i].values.reshape(2, 360)  # reshape to (2 channels x 360 samples)\n",
    "    label = df_labels.iloc[i, 0]\n",
    "\n",
    "    plt.subplot(num_examples, 1, i + 1)\n",
    "    plt.plot(segment[0], label='Channel 1 (MLII)')\n",
    "    plt.plot(segment[1], label='Channel 2 (V5)')\n",
    "    plt.title(f'ECG Segment #{i+1} — Label: {label}')\n",
    "    plt.xlabel('Sample')\n",
    "    plt.ylabel('Amplitude')\n",
    "    plt.legend(loc='upper right')\n",
    "\n",
    "plt.tight_layout()\n",
    "plt.show()\n"
   ]
  },
  {
   "cell_type": "markdown",
   "id": "579495f7",
   "metadata": {},
   "source": [
    "# Features Extracted from Each Channel (MLII or V5)\n",
    "**1. Time-Based Features (describe the shape of the signal)**\n",
    "Feature\tWhat it means (simple)\n",
    "Mean\tThe average height of the signal\n",
    "Standard Deviation\tHow much the signal values spread around the average\n",
    "Minimum\tThe lowest point in the signal\n",
    "Maximum\tThe highest point in the signal\n",
    "Median\tThe middle value of the signal (not affected by outliers)\n",
    "Skewness\tWhether the signal leans more to one side (left/right)\n",
    "Kurtosis\tHow sharp or flat the signal peaks are\n",
    "Zero Crossings\tHow many times the signal crosses the zero line (wigglyness)\n",
    "RMS (Root Mean Square)\tA measure of signal energy\n",
    "IEMG (Integrated EMG)\tTotal size/area of the signal\n",
    "Waveform Length\tHow long or busy the signal shape is\n",
    "\n",
    "**2. Hjorth Parameters (special shape info)**\n",
    "These describe how active or complex the signal is.\n",
    "\n",
    "Feature\tWhat it means\n",
    "Activity\tHow much the signal is changing overall\n",
    "Mobility\tHow fast the signal is changing (like slope)\n",
    "Complexity\tHow unpredictable or detailed the signal shape is\n",
    "\n",
    "**3. Frequency-Based Feature**\n",
    "Feature\tWhat it means\n",
    "Band Energy (0–10 Hz)\tHow much energy the signal has in the 0–10 Hz range (this is where most ECG info lives)\n",
    "\n",
    "**We get:**\n",
    "15 features per channel\n",
    "\n",
    "2 channels per beat → 30 features total"
   ]
  },
  {
   "cell_type": "code",
   "execution_count": 10,
   "id": "901c8a3e",
   "metadata": {},
   "outputs": [
    {
     "name": "stderr",
     "output_type": "stream",
     "text": [
      "C:\\Users\\ENAS.DESKTOP-CSI0DAD\\AppData\\Local\\Temp\\ipykernel_14708\\869928792.py:22: DeprecationWarning: `trapz` is deprecated. Use `trapezoid` instead, or one of the numerical integration functions in `scipy.integrate`.\n",
      "  return np.trapz(psd[band_mask], freqs[band_mask])\n"
     ]
    },
    {
     "name": "stdout",
     "output_type": "stream",
     "text": [
      "✅ Features saved for: 100\n"
     ]
    },
    {
     "name": "stderr",
     "output_type": "stream",
     "text": [
      "C:\\Users\\ENAS.DESKTOP-CSI0DAD\\AppData\\Local\\Temp\\ipykernel_14708\\869928792.py:22: DeprecationWarning: `trapz` is deprecated. Use `trapezoid` instead, or one of the numerical integration functions in `scipy.integrate`.\n",
      "  return np.trapz(psd[band_mask], freqs[band_mask])\n"
     ]
    },
    {
     "name": "stdout",
     "output_type": "stream",
     "text": [
      "✅ Features saved for: 101\n"
     ]
    },
    {
     "name": "stderr",
     "output_type": "stream",
     "text": [
      "C:\\Users\\ENAS.DESKTOP-CSI0DAD\\AppData\\Local\\Temp\\ipykernel_14708\\869928792.py:22: DeprecationWarning: `trapz` is deprecated. Use `trapezoid` instead, or one of the numerical integration functions in `scipy.integrate`.\n",
      "  return np.trapz(psd[band_mask], freqs[band_mask])\n"
     ]
    },
    {
     "name": "stdout",
     "output_type": "stream",
     "text": [
      "✅ Features saved for: 102\n"
     ]
    },
    {
     "name": "stderr",
     "output_type": "stream",
     "text": [
      "C:\\Users\\ENAS.DESKTOP-CSI0DAD\\AppData\\Local\\Temp\\ipykernel_14708\\869928792.py:22: DeprecationWarning: `trapz` is deprecated. Use `trapezoid` instead, or one of the numerical integration functions in `scipy.integrate`.\n",
      "  return np.trapz(psd[band_mask], freqs[band_mask])\n"
     ]
    },
    {
     "name": "stdout",
     "output_type": "stream",
     "text": [
      "✅ Features saved for: 103\n"
     ]
    },
    {
     "name": "stderr",
     "output_type": "stream",
     "text": [
      "C:\\Users\\ENAS.DESKTOP-CSI0DAD\\AppData\\Local\\Temp\\ipykernel_14708\\869928792.py:22: DeprecationWarning: `trapz` is deprecated. Use `trapezoid` instead, or one of the numerical integration functions in `scipy.integrate`.\n",
      "  return np.trapz(psd[band_mask], freqs[band_mask])\n"
     ]
    },
    {
     "name": "stdout",
     "output_type": "stream",
     "text": [
      "✅ Features saved for: 104\n"
     ]
    },
    {
     "name": "stderr",
     "output_type": "stream",
     "text": [
      "C:\\Users\\ENAS.DESKTOP-CSI0DAD\\AppData\\Local\\Temp\\ipykernel_14708\\869928792.py:22: DeprecationWarning: `trapz` is deprecated. Use `trapezoid` instead, or one of the numerical integration functions in `scipy.integrate`.\n",
      "  return np.trapz(psd[band_mask], freqs[band_mask])\n"
     ]
    },
    {
     "name": "stdout",
     "output_type": "stream",
     "text": [
      "✅ Features saved for: 105\n"
     ]
    },
    {
     "name": "stderr",
     "output_type": "stream",
     "text": [
      "C:\\Users\\ENAS.DESKTOP-CSI0DAD\\AppData\\Local\\Temp\\ipykernel_14708\\869928792.py:22: DeprecationWarning: `trapz` is deprecated. Use `trapezoid` instead, or one of the numerical integration functions in `scipy.integrate`.\n",
      "  return np.trapz(psd[band_mask], freqs[band_mask])\n"
     ]
    },
    {
     "name": "stdout",
     "output_type": "stream",
     "text": [
      "✅ Features saved for: 106\n"
     ]
    },
    {
     "name": "stderr",
     "output_type": "stream",
     "text": [
      "C:\\Users\\ENAS.DESKTOP-CSI0DAD\\AppData\\Local\\Temp\\ipykernel_14708\\869928792.py:22: DeprecationWarning: `trapz` is deprecated. Use `trapezoid` instead, or one of the numerical integration functions in `scipy.integrate`.\n",
      "  return np.trapz(psd[band_mask], freqs[band_mask])\n"
     ]
    },
    {
     "name": "stdout",
     "output_type": "stream",
     "text": [
      "✅ Features saved for: 107\n"
     ]
    },
    {
     "name": "stderr",
     "output_type": "stream",
     "text": [
      "C:\\Users\\ENAS.DESKTOP-CSI0DAD\\AppData\\Local\\Temp\\ipykernel_14708\\869928792.py:22: DeprecationWarning: `trapz` is deprecated. Use `trapezoid` instead, or one of the numerical integration functions in `scipy.integrate`.\n",
      "  return np.trapz(psd[band_mask], freqs[band_mask])\n"
     ]
    },
    {
     "name": "stdout",
     "output_type": "stream",
     "text": [
      "✅ Features saved for: 108\n"
     ]
    },
    {
     "name": "stderr",
     "output_type": "stream",
     "text": [
      "C:\\Users\\ENAS.DESKTOP-CSI0DAD\\AppData\\Local\\Temp\\ipykernel_14708\\869928792.py:22: DeprecationWarning: `trapz` is deprecated. Use `trapezoid` instead, or one of the numerical integration functions in `scipy.integrate`.\n",
      "  return np.trapz(psd[band_mask], freqs[band_mask])\n"
     ]
    },
    {
     "name": "stdout",
     "output_type": "stream",
     "text": [
      "✅ Features saved for: 109\n"
     ]
    },
    {
     "name": "stderr",
     "output_type": "stream",
     "text": [
      "C:\\Users\\ENAS.DESKTOP-CSI0DAD\\AppData\\Local\\Temp\\ipykernel_14708\\869928792.py:22: DeprecationWarning: `trapz` is deprecated. Use `trapezoid` instead, or one of the numerical integration functions in `scipy.integrate`.\n",
      "  return np.trapz(psd[band_mask], freqs[band_mask])\n"
     ]
    },
    {
     "name": "stdout",
     "output_type": "stream",
     "text": [
      "✅ Features saved for: 111\n"
     ]
    },
    {
     "name": "stderr",
     "output_type": "stream",
     "text": [
      "C:\\Users\\ENAS.DESKTOP-CSI0DAD\\AppData\\Local\\Temp\\ipykernel_14708\\869928792.py:22: DeprecationWarning: `trapz` is deprecated. Use `trapezoid` instead, or one of the numerical integration functions in `scipy.integrate`.\n",
      "  return np.trapz(psd[band_mask], freqs[band_mask])\n"
     ]
    },
    {
     "name": "stdout",
     "output_type": "stream",
     "text": [
      "✅ Features saved for: 112\n"
     ]
    },
    {
     "name": "stderr",
     "output_type": "stream",
     "text": [
      "C:\\Users\\ENAS.DESKTOP-CSI0DAD\\AppData\\Local\\Temp\\ipykernel_14708\\869928792.py:22: DeprecationWarning: `trapz` is deprecated. Use `trapezoid` instead, or one of the numerical integration functions in `scipy.integrate`.\n",
      "  return np.trapz(psd[band_mask], freqs[band_mask])\n"
     ]
    },
    {
     "name": "stdout",
     "output_type": "stream",
     "text": [
      "✅ Features saved for: 113\n"
     ]
    },
    {
     "name": "stderr",
     "output_type": "stream",
     "text": [
      "C:\\Users\\ENAS.DESKTOP-CSI0DAD\\AppData\\Local\\Temp\\ipykernel_14708\\869928792.py:22: DeprecationWarning: `trapz` is deprecated. Use `trapezoid` instead, or one of the numerical integration functions in `scipy.integrate`.\n",
      "  return np.trapz(psd[band_mask], freqs[band_mask])\n"
     ]
    },
    {
     "name": "stdout",
     "output_type": "stream",
     "text": [
      "✅ Features saved for: 114\n"
     ]
    },
    {
     "name": "stderr",
     "output_type": "stream",
     "text": [
      "C:\\Users\\ENAS.DESKTOP-CSI0DAD\\AppData\\Local\\Temp\\ipykernel_14708\\869928792.py:22: DeprecationWarning: `trapz` is deprecated. Use `trapezoid` instead, or one of the numerical integration functions in `scipy.integrate`.\n",
      "  return np.trapz(psd[band_mask], freqs[band_mask])\n"
     ]
    },
    {
     "name": "stdout",
     "output_type": "stream",
     "text": [
      "✅ Features saved for: 115\n"
     ]
    },
    {
     "name": "stderr",
     "output_type": "stream",
     "text": [
      "C:\\Users\\ENAS.DESKTOP-CSI0DAD\\AppData\\Local\\Temp\\ipykernel_14708\\869928792.py:22: DeprecationWarning: `trapz` is deprecated. Use `trapezoid` instead, or one of the numerical integration functions in `scipy.integrate`.\n",
      "  return np.trapz(psd[band_mask], freqs[band_mask])\n"
     ]
    },
    {
     "name": "stdout",
     "output_type": "stream",
     "text": [
      "✅ Features saved for: 116\n"
     ]
    },
    {
     "name": "stderr",
     "output_type": "stream",
     "text": [
      "C:\\Users\\ENAS.DESKTOP-CSI0DAD\\AppData\\Local\\Temp\\ipykernel_14708\\869928792.py:22: DeprecationWarning: `trapz` is deprecated. Use `trapezoid` instead, or one of the numerical integration functions in `scipy.integrate`.\n",
      "  return np.trapz(psd[band_mask], freqs[band_mask])\n"
     ]
    },
    {
     "name": "stdout",
     "output_type": "stream",
     "text": [
      "✅ Features saved for: 117\n"
     ]
    },
    {
     "name": "stderr",
     "output_type": "stream",
     "text": [
      "C:\\Users\\ENAS.DESKTOP-CSI0DAD\\AppData\\Local\\Temp\\ipykernel_14708\\869928792.py:22: DeprecationWarning: `trapz` is deprecated. Use `trapezoid` instead, or one of the numerical integration functions in `scipy.integrate`.\n",
      "  return np.trapz(psd[band_mask], freqs[band_mask])\n"
     ]
    },
    {
     "name": "stdout",
     "output_type": "stream",
     "text": [
      "✅ Features saved for: 118\n"
     ]
    },
    {
     "name": "stderr",
     "output_type": "stream",
     "text": [
      "C:\\Users\\ENAS.DESKTOP-CSI0DAD\\AppData\\Local\\Temp\\ipykernel_14708\\869928792.py:22: DeprecationWarning: `trapz` is deprecated. Use `trapezoid` instead, or one of the numerical integration functions in `scipy.integrate`.\n",
      "  return np.trapz(psd[band_mask], freqs[band_mask])\n"
     ]
    },
    {
     "name": "stdout",
     "output_type": "stream",
     "text": [
      "✅ Features saved for: 119\n"
     ]
    },
    {
     "name": "stderr",
     "output_type": "stream",
     "text": [
      "C:\\Users\\ENAS.DESKTOP-CSI0DAD\\AppData\\Local\\Temp\\ipykernel_14708\\869928792.py:22: DeprecationWarning: `trapz` is deprecated. Use `trapezoid` instead, or one of the numerical integration functions in `scipy.integrate`.\n",
      "  return np.trapz(psd[band_mask], freqs[band_mask])\n"
     ]
    },
    {
     "name": "stdout",
     "output_type": "stream",
     "text": [
      "✅ Features saved for: 121\n"
     ]
    },
    {
     "name": "stderr",
     "output_type": "stream",
     "text": [
      "C:\\Users\\ENAS.DESKTOP-CSI0DAD\\AppData\\Local\\Temp\\ipykernel_14708\\869928792.py:22: DeprecationWarning: `trapz` is deprecated. Use `trapezoid` instead, or one of the numerical integration functions in `scipy.integrate`.\n",
      "  return np.trapz(psd[band_mask], freqs[band_mask])\n"
     ]
    },
    {
     "name": "stdout",
     "output_type": "stream",
     "text": [
      "✅ Features saved for: 122\n"
     ]
    },
    {
     "name": "stderr",
     "output_type": "stream",
     "text": [
      "C:\\Users\\ENAS.DESKTOP-CSI0DAD\\AppData\\Local\\Temp\\ipykernel_14708\\869928792.py:22: DeprecationWarning: `trapz` is deprecated. Use `trapezoid` instead, or one of the numerical integration functions in `scipy.integrate`.\n",
      "  return np.trapz(psd[band_mask], freqs[band_mask])\n"
     ]
    },
    {
     "name": "stdout",
     "output_type": "stream",
     "text": [
      "✅ Features saved for: 123\n"
     ]
    },
    {
     "name": "stderr",
     "output_type": "stream",
     "text": [
      "C:\\Users\\ENAS.DESKTOP-CSI0DAD\\AppData\\Local\\Temp\\ipykernel_14708\\869928792.py:22: DeprecationWarning: `trapz` is deprecated. Use `trapezoid` instead, or one of the numerical integration functions in `scipy.integrate`.\n",
      "  return np.trapz(psd[band_mask], freqs[band_mask])\n"
     ]
    },
    {
     "name": "stdout",
     "output_type": "stream",
     "text": [
      "✅ Features saved for: 124\n"
     ]
    },
    {
     "name": "stderr",
     "output_type": "stream",
     "text": [
      "C:\\Users\\ENAS.DESKTOP-CSI0DAD\\AppData\\Local\\Temp\\ipykernel_14708\\869928792.py:22: DeprecationWarning: `trapz` is deprecated. Use `trapezoid` instead, or one of the numerical integration functions in `scipy.integrate`.\n",
      "  return np.trapz(psd[band_mask], freqs[band_mask])\n"
     ]
    },
    {
     "name": "stdout",
     "output_type": "stream",
     "text": [
      "✅ Features saved for: 200\n"
     ]
    },
    {
     "name": "stderr",
     "output_type": "stream",
     "text": [
      "C:\\Users\\ENAS.DESKTOP-CSI0DAD\\AppData\\Local\\Temp\\ipykernel_14708\\869928792.py:22: DeprecationWarning: `trapz` is deprecated. Use `trapezoid` instead, or one of the numerical integration functions in `scipy.integrate`.\n",
      "  return np.trapz(psd[band_mask], freqs[band_mask])\n"
     ]
    },
    {
     "name": "stdout",
     "output_type": "stream",
     "text": [
      "✅ Features saved for: 201\n"
     ]
    },
    {
     "name": "stderr",
     "output_type": "stream",
     "text": [
      "C:\\Users\\ENAS.DESKTOP-CSI0DAD\\AppData\\Local\\Temp\\ipykernel_14708\\869928792.py:22: DeprecationWarning: `trapz` is deprecated. Use `trapezoid` instead, or one of the numerical integration functions in `scipy.integrate`.\n",
      "  return np.trapz(psd[band_mask], freqs[band_mask])\n"
     ]
    },
    {
     "name": "stdout",
     "output_type": "stream",
     "text": [
      "✅ Features saved for: 202\n"
     ]
    },
    {
     "name": "stderr",
     "output_type": "stream",
     "text": [
      "C:\\Users\\ENAS.DESKTOP-CSI0DAD\\AppData\\Local\\Temp\\ipykernel_14708\\869928792.py:22: DeprecationWarning: `trapz` is deprecated. Use `trapezoid` instead, or one of the numerical integration functions in `scipy.integrate`.\n",
      "  return np.trapz(psd[band_mask], freqs[band_mask])\n"
     ]
    },
    {
     "name": "stdout",
     "output_type": "stream",
     "text": [
      "✅ Features saved for: 203\n"
     ]
    },
    {
     "name": "stderr",
     "output_type": "stream",
     "text": [
      "C:\\Users\\ENAS.DESKTOP-CSI0DAD\\AppData\\Local\\Temp\\ipykernel_14708\\869928792.py:22: DeprecationWarning: `trapz` is deprecated. Use `trapezoid` instead, or one of the numerical integration functions in `scipy.integrate`.\n",
      "  return np.trapz(psd[band_mask], freqs[band_mask])\n"
     ]
    },
    {
     "name": "stdout",
     "output_type": "stream",
     "text": [
      "✅ Features saved for: 205\n"
     ]
    },
    {
     "name": "stderr",
     "output_type": "stream",
     "text": [
      "C:\\Users\\ENAS.DESKTOP-CSI0DAD\\AppData\\Local\\Temp\\ipykernel_14708\\869928792.py:22: DeprecationWarning: `trapz` is deprecated. Use `trapezoid` instead, or one of the numerical integration functions in `scipy.integrate`.\n",
      "  return np.trapz(psd[band_mask], freqs[band_mask])\n"
     ]
    },
    {
     "name": "stdout",
     "output_type": "stream",
     "text": [
      "✅ Features saved for: 207\n"
     ]
    },
    {
     "name": "stderr",
     "output_type": "stream",
     "text": [
      "C:\\Users\\ENAS.DESKTOP-CSI0DAD\\AppData\\Local\\Temp\\ipykernel_14708\\869928792.py:22: DeprecationWarning: `trapz` is deprecated. Use `trapezoid` instead, or one of the numerical integration functions in `scipy.integrate`.\n",
      "  return np.trapz(psd[band_mask], freqs[band_mask])\n"
     ]
    },
    {
     "name": "stdout",
     "output_type": "stream",
     "text": [
      "✅ Features saved for: 208\n"
     ]
    },
    {
     "name": "stderr",
     "output_type": "stream",
     "text": [
      "C:\\Users\\ENAS.DESKTOP-CSI0DAD\\AppData\\Local\\Temp\\ipykernel_14708\\869928792.py:22: DeprecationWarning: `trapz` is deprecated. Use `trapezoid` instead, or one of the numerical integration functions in `scipy.integrate`.\n",
      "  return np.trapz(psd[band_mask], freqs[band_mask])\n"
     ]
    },
    {
     "name": "stdout",
     "output_type": "stream",
     "text": [
      "✅ Features saved for: 209\n"
     ]
    },
    {
     "name": "stderr",
     "output_type": "stream",
     "text": [
      "C:\\Users\\ENAS.DESKTOP-CSI0DAD\\AppData\\Local\\Temp\\ipykernel_14708\\869928792.py:22: DeprecationWarning: `trapz` is deprecated. Use `trapezoid` instead, or one of the numerical integration functions in `scipy.integrate`.\n",
      "  return np.trapz(psd[band_mask], freqs[band_mask])\n"
     ]
    },
    {
     "name": "stdout",
     "output_type": "stream",
     "text": [
      "✅ Features saved for: 210\n"
     ]
    },
    {
     "name": "stderr",
     "output_type": "stream",
     "text": [
      "C:\\Users\\ENAS.DESKTOP-CSI0DAD\\AppData\\Local\\Temp\\ipykernel_14708\\869928792.py:22: DeprecationWarning: `trapz` is deprecated. Use `trapezoid` instead, or one of the numerical integration functions in `scipy.integrate`.\n",
      "  return np.trapz(psd[band_mask], freqs[band_mask])\n"
     ]
    },
    {
     "name": "stdout",
     "output_type": "stream",
     "text": [
      "✅ Features saved for: 212\n"
     ]
    },
    {
     "name": "stderr",
     "output_type": "stream",
     "text": [
      "C:\\Users\\ENAS.DESKTOP-CSI0DAD\\AppData\\Local\\Temp\\ipykernel_14708\\869928792.py:22: DeprecationWarning: `trapz` is deprecated. Use `trapezoid` instead, or one of the numerical integration functions in `scipy.integrate`.\n",
      "  return np.trapz(psd[band_mask], freqs[band_mask])\n"
     ]
    },
    {
     "name": "stdout",
     "output_type": "stream",
     "text": [
      "✅ Features saved for: 213\n"
     ]
    },
    {
     "name": "stderr",
     "output_type": "stream",
     "text": [
      "C:\\Users\\ENAS.DESKTOP-CSI0DAD\\AppData\\Local\\Temp\\ipykernel_14708\\869928792.py:22: DeprecationWarning: `trapz` is deprecated. Use `trapezoid` instead, or one of the numerical integration functions in `scipy.integrate`.\n",
      "  return np.trapz(psd[band_mask], freqs[band_mask])\n"
     ]
    },
    {
     "name": "stdout",
     "output_type": "stream",
     "text": [
      "✅ Features saved for: 214\n"
     ]
    },
    {
     "name": "stderr",
     "output_type": "stream",
     "text": [
      "C:\\Users\\ENAS.DESKTOP-CSI0DAD\\AppData\\Local\\Temp\\ipykernel_14708\\869928792.py:22: DeprecationWarning: `trapz` is deprecated. Use `trapezoid` instead, or one of the numerical integration functions in `scipy.integrate`.\n",
      "  return np.trapz(psd[band_mask], freqs[band_mask])\n"
     ]
    },
    {
     "name": "stdout",
     "output_type": "stream",
     "text": [
      "✅ Features saved for: 215\n"
     ]
    },
    {
     "name": "stderr",
     "output_type": "stream",
     "text": [
      "C:\\Users\\ENAS.DESKTOP-CSI0DAD\\AppData\\Local\\Temp\\ipykernel_14708\\869928792.py:22: DeprecationWarning: `trapz` is deprecated. Use `trapezoid` instead, or one of the numerical integration functions in `scipy.integrate`.\n",
      "  return np.trapz(psd[band_mask], freqs[band_mask])\n"
     ]
    },
    {
     "name": "stdout",
     "output_type": "stream",
     "text": [
      "✅ Features saved for: 217\n"
     ]
    },
    {
     "name": "stderr",
     "output_type": "stream",
     "text": [
      "C:\\Users\\ENAS.DESKTOP-CSI0DAD\\AppData\\Local\\Temp\\ipykernel_14708\\869928792.py:22: DeprecationWarning: `trapz` is deprecated. Use `trapezoid` instead, or one of the numerical integration functions in `scipy.integrate`.\n",
      "  return np.trapz(psd[band_mask], freqs[band_mask])\n"
     ]
    },
    {
     "name": "stdout",
     "output_type": "stream",
     "text": [
      "✅ Features saved for: 219\n"
     ]
    },
    {
     "name": "stderr",
     "output_type": "stream",
     "text": [
      "C:\\Users\\ENAS.DESKTOP-CSI0DAD\\AppData\\Local\\Temp\\ipykernel_14708\\869928792.py:22: DeprecationWarning: `trapz` is deprecated. Use `trapezoid` instead, or one of the numerical integration functions in `scipy.integrate`.\n",
      "  return np.trapz(psd[band_mask], freqs[band_mask])\n"
     ]
    },
    {
     "name": "stdout",
     "output_type": "stream",
     "text": [
      "✅ Features saved for: 220\n"
     ]
    },
    {
     "name": "stderr",
     "output_type": "stream",
     "text": [
      "C:\\Users\\ENAS.DESKTOP-CSI0DAD\\AppData\\Local\\Temp\\ipykernel_14708\\869928792.py:22: DeprecationWarning: `trapz` is deprecated. Use `trapezoid` instead, or one of the numerical integration functions in `scipy.integrate`.\n",
      "  return np.trapz(psd[band_mask], freqs[band_mask])\n"
     ]
    },
    {
     "name": "stdout",
     "output_type": "stream",
     "text": [
      "✅ Features saved for: 221\n"
     ]
    },
    {
     "name": "stderr",
     "output_type": "stream",
     "text": [
      "C:\\Users\\ENAS.DESKTOP-CSI0DAD\\AppData\\Local\\Temp\\ipykernel_14708\\869928792.py:22: DeprecationWarning: `trapz` is deprecated. Use `trapezoid` instead, or one of the numerical integration functions in `scipy.integrate`.\n",
      "  return np.trapz(psd[band_mask], freqs[band_mask])\n"
     ]
    },
    {
     "name": "stdout",
     "output_type": "stream",
     "text": [
      "✅ Features saved for: 222\n"
     ]
    },
    {
     "name": "stderr",
     "output_type": "stream",
     "text": [
      "C:\\Users\\ENAS.DESKTOP-CSI0DAD\\AppData\\Local\\Temp\\ipykernel_14708\\869928792.py:22: DeprecationWarning: `trapz` is deprecated. Use `trapezoid` instead, or one of the numerical integration functions in `scipy.integrate`.\n",
      "  return np.trapz(psd[band_mask], freqs[band_mask])\n"
     ]
    },
    {
     "name": "stdout",
     "output_type": "stream",
     "text": [
      "✅ Features saved for: 223\n"
     ]
    },
    {
     "name": "stderr",
     "output_type": "stream",
     "text": [
      "C:\\Users\\ENAS.DESKTOP-CSI0DAD\\AppData\\Local\\Temp\\ipykernel_14708\\869928792.py:22: DeprecationWarning: `trapz` is deprecated. Use `trapezoid` instead, or one of the numerical integration functions in `scipy.integrate`.\n",
      "  return np.trapz(psd[band_mask], freqs[band_mask])\n"
     ]
    },
    {
     "name": "stdout",
     "output_type": "stream",
     "text": [
      "✅ Features saved for: 228\n"
     ]
    },
    {
     "name": "stderr",
     "output_type": "stream",
     "text": [
      "C:\\Users\\ENAS.DESKTOP-CSI0DAD\\AppData\\Local\\Temp\\ipykernel_14708\\869928792.py:22: DeprecationWarning: `trapz` is deprecated. Use `trapezoid` instead, or one of the numerical integration functions in `scipy.integrate`.\n",
      "  return np.trapz(psd[band_mask], freqs[band_mask])\n"
     ]
    },
    {
     "name": "stdout",
     "output_type": "stream",
     "text": [
      "✅ Features saved for: 230\n"
     ]
    },
    {
     "name": "stderr",
     "output_type": "stream",
     "text": [
      "C:\\Users\\ENAS.DESKTOP-CSI0DAD\\AppData\\Local\\Temp\\ipykernel_14708\\869928792.py:22: DeprecationWarning: `trapz` is deprecated. Use `trapezoid` instead, or one of the numerical integration functions in `scipy.integrate`.\n",
      "  return np.trapz(psd[band_mask], freqs[band_mask])\n"
     ]
    },
    {
     "name": "stdout",
     "output_type": "stream",
     "text": [
      "✅ Features saved for: 231\n"
     ]
    },
    {
     "name": "stderr",
     "output_type": "stream",
     "text": [
      "C:\\Users\\ENAS.DESKTOP-CSI0DAD\\AppData\\Local\\Temp\\ipykernel_14708\\869928792.py:22: DeprecationWarning: `trapz` is deprecated. Use `trapezoid` instead, or one of the numerical integration functions in `scipy.integrate`.\n",
      "  return np.trapz(psd[band_mask], freqs[band_mask])\n"
     ]
    },
    {
     "name": "stdout",
     "output_type": "stream",
     "text": [
      "✅ Features saved for: 232\n"
     ]
    },
    {
     "name": "stderr",
     "output_type": "stream",
     "text": [
      "C:\\Users\\ENAS.DESKTOP-CSI0DAD\\AppData\\Local\\Temp\\ipykernel_14708\\869928792.py:22: DeprecationWarning: `trapz` is deprecated. Use `trapezoid` instead, or one of the numerical integration functions in `scipy.integrate`.\n",
      "  return np.trapz(psd[band_mask], freqs[band_mask])\n"
     ]
    },
    {
     "name": "stdout",
     "output_type": "stream",
     "text": [
      "✅ Features saved for: 233\n"
     ]
    },
    {
     "name": "stderr",
     "output_type": "stream",
     "text": [
      "C:\\Users\\ENAS.DESKTOP-CSI0DAD\\AppData\\Local\\Temp\\ipykernel_14708\\869928792.py:22: DeprecationWarning: `trapz` is deprecated. Use `trapezoid` instead, or one of the numerical integration functions in `scipy.integrate`.\n",
      "  return np.trapz(psd[band_mask], freqs[band_mask])\n"
     ]
    },
    {
     "name": "stdout",
     "output_type": "stream",
     "text": [
      "✅ Features saved for: 234\n"
     ]
    }
   ],
   "source": [
    "import numpy as np\n",
    "import pandas as pd\n",
    "from scipy.stats import skew, kurtosis\n",
    "from scipy.signal import welch\n",
    "import os\n",
    "\n",
    "# === Feature Extraction Functions ===\n",
    "def hjorth_parameters(sig):\n",
    "    first_deriv = np.diff(sig)\n",
    "    second_deriv = np.diff(first_deriv)\n",
    "    var_zero = np.var(sig)\n",
    "    var_d1 = np.var(first_deriv)\n",
    "    var_d2 = np.var(second_deriv)\n",
    "    activity = var_zero\n",
    "    mobility = np.sqrt(var_d1 / var_zero) if var_zero != 0 else 0\n",
    "    complexity = np.sqrt(var_d2 / var_d1) / mobility if var_d1 != 0 and mobility != 0 else 0\n",
    "    return activity, mobility, complexity\n",
    "\n",
    "def band_energy(signal, fs=360, band=(0, 10)):\n",
    "    freqs, psd = welch(signal, fs=fs)\n",
    "    band_mask = (freqs >= band[0]) & (freqs <= band[1])\n",
    "    return np.trapz(psd[band_mask], freqs[band_mask])\n",
    "\n",
    "def extract_ecg_features(segment_2x360):\n",
    "    features = []\n",
    "    for ch in segment_2x360:\n",
    "        features += [\n",
    "            np.mean(ch), np.std(ch), np.min(ch), np.max(ch), np.median(ch),\n",
    "            skew(ch), kurtosis(ch),\n",
    "            np.sum(np.abs(np.diff(np.sign(ch)))) / 2,       # Zero crossing\n",
    "            np.sqrt(np.mean(ch**2)),                        # RMS\n",
    "            np.sum(np.abs(ch)),                             # IEMG\n",
    "            np.sum(np.abs(np.diff(ch)))                     # Waveform length\n",
    "        ]\n",
    "        h1, h2, h3 = hjorth_parameters(ch)\n",
    "        features += [h1, h2, h3]\n",
    "        features += [band_energy(ch)]\n",
    "    return features\n",
    "\n",
    "# === Paths ===\n",
    "input_folder = r'C:\\Users\\ENAS.DESKTOP-CSI0DAD\\Desktop\\ecg\\me\\dataset\\ECG Signal Processing and Segmentation'\n",
    "output_folder = os.path.join(input_folder, 'features')\n",
    "os.makedirs(output_folder, exist_ok=True)\n",
    "\n",
    "# === Process All Segment Files ===\n",
    "for file in os.listdir(input_folder):\n",
    "    if file.endswith('_segments.xlsx'):\n",
    "        record_id = file.split('_')[0]\n",
    "        segment_path = os.path.join(input_folder, file)\n",
    "        try:\n",
    "            df_segments = pd.read_excel(segment_path)\n",
    "            all_features = []\n",
    "\n",
    "            for _, row in df_segments.iterrows():\n",
    "                segment_flat = row.to_numpy()\n",
    "                segment_2x360 = segment_flat.reshape(2, 360)\n",
    "                features = extract_ecg_features(segment_2x360)\n",
    "                all_features.append(features)\n",
    "\n",
    "            # Save extracted features\n",
    "            df_features = pd.DataFrame(all_features)\n",
    "            df_features.to_excel(os.path.join(output_folder, f'{record_id}_features.xlsx'), index=False)\n",
    "            print(f\"✅ Features saved for: {record_id}\")\n",
    "\n",
    "        except Exception as e:\n",
    "            print(f\"❌ Error processing {file}: {e}\")\n"
   ]
  },
  {
   "cell_type": "markdown",
   "id": "2d004cf8",
   "metadata": {},
   "source": [
    "# ===============================================================\n",
    " Loops through subject IDs from 100 to 234.\n",
    "\n",
    " Loads corresponding feature and label Excel files.\n",
    "\n",
    " Merges them horizontally (side-by-side).\n",
    "\n",
    " Saves the result as a new Excel file (e.g., subject114.xlsx).\n",
    "\n",
    "# ===============================================================\n"
   ]
  },
  {
   "cell_type": "code",
   "execution_count": 3,
   "id": "56b80f5d",
   "metadata": {},
   "outputs": [
    {
     "name": "stdout",
     "output_type": "stream",
     "text": [
      "✅ Saved: subject100.xlsx\n",
      "✅ Saved: subject101.xlsx\n",
      "✅ Saved: subject102.xlsx\n",
      "✅ Saved: subject103.xlsx\n",
      "✅ Saved: subject104.xlsx\n",
      "✅ Saved: subject105.xlsx\n",
      "✅ Saved: subject106.xlsx\n",
      "✅ Saved: subject107.xlsx\n",
      "✅ Saved: subject108.xlsx\n",
      "✅ Saved: subject109.xlsx\n",
      "⚠️ Missing files for subject110\n",
      "✅ Saved: subject111.xlsx\n",
      "✅ Saved: subject112.xlsx\n",
      "✅ Saved: subject113.xlsx\n",
      "✅ Saved: subject114.xlsx\n",
      "✅ Saved: subject115.xlsx\n",
      "✅ Saved: subject116.xlsx\n",
      "✅ Saved: subject117.xlsx\n",
      "✅ Saved: subject118.xlsx\n",
      "✅ Saved: subject119.xlsx\n",
      "⚠️ Missing files for subject120\n",
      "✅ Saved: subject121.xlsx\n",
      "✅ Saved: subject122.xlsx\n",
      "✅ Saved: subject123.xlsx\n",
      "✅ Saved: subject124.xlsx\n",
      "⚠️ Missing files for subject125\n",
      "⚠️ Missing files for subject126\n",
      "⚠️ Missing files for subject127\n",
      "⚠️ Missing files for subject128\n",
      "⚠️ Missing files for subject129\n",
      "⚠️ Missing files for subject130\n",
      "⚠️ Missing files for subject131\n",
      "⚠️ Missing files for subject132\n",
      "⚠️ Missing files for subject133\n",
      "⚠️ Missing files for subject134\n",
      "⚠️ Missing files for subject135\n",
      "⚠️ Missing files for subject136\n",
      "⚠️ Missing files for subject137\n",
      "⚠️ Missing files for subject138\n",
      "⚠️ Missing files for subject139\n",
      "⚠️ Missing files for subject140\n",
      "⚠️ Missing files for subject141\n",
      "⚠️ Missing files for subject142\n",
      "⚠️ Missing files for subject143\n",
      "⚠️ Missing files for subject144\n",
      "⚠️ Missing files for subject145\n",
      "⚠️ Missing files for subject146\n",
      "⚠️ Missing files for subject147\n",
      "⚠️ Missing files for subject148\n",
      "⚠️ Missing files for subject149\n",
      "⚠️ Missing files for subject150\n",
      "⚠️ Missing files for subject151\n",
      "⚠️ Missing files for subject152\n",
      "⚠️ Missing files for subject153\n",
      "⚠️ Missing files for subject154\n",
      "⚠️ Missing files for subject155\n",
      "⚠️ Missing files for subject156\n",
      "⚠️ Missing files for subject157\n",
      "⚠️ Missing files for subject158\n",
      "⚠️ Missing files for subject159\n",
      "⚠️ Missing files for subject160\n",
      "⚠️ Missing files for subject161\n",
      "⚠️ Missing files for subject162\n",
      "⚠️ Missing files for subject163\n",
      "⚠️ Missing files for subject164\n",
      "⚠️ Missing files for subject165\n",
      "⚠️ Missing files for subject166\n",
      "⚠️ Missing files for subject167\n",
      "⚠️ Missing files for subject168\n",
      "⚠️ Missing files for subject169\n",
      "⚠️ Missing files for subject170\n",
      "⚠️ Missing files for subject171\n",
      "⚠️ Missing files for subject172\n",
      "⚠️ Missing files for subject173\n",
      "⚠️ Missing files for subject174\n",
      "⚠️ Missing files for subject175\n",
      "⚠️ Missing files for subject176\n",
      "⚠️ Missing files for subject177\n",
      "⚠️ Missing files for subject178\n",
      "⚠️ Missing files for subject179\n",
      "⚠️ Missing files for subject180\n",
      "⚠️ Missing files for subject181\n",
      "⚠️ Missing files for subject182\n",
      "⚠️ Missing files for subject183\n",
      "⚠️ Missing files for subject184\n",
      "⚠️ Missing files for subject185\n",
      "⚠️ Missing files for subject186\n",
      "⚠️ Missing files for subject187\n",
      "⚠️ Missing files for subject188\n",
      "⚠️ Missing files for subject189\n",
      "⚠️ Missing files for subject190\n",
      "⚠️ Missing files for subject191\n",
      "⚠️ Missing files for subject192\n",
      "⚠️ Missing files for subject193\n",
      "⚠️ Missing files for subject194\n",
      "⚠️ Missing files for subject195\n",
      "⚠️ Missing files for subject196\n",
      "⚠️ Missing files for subject197\n",
      "⚠️ Missing files for subject198\n",
      "⚠️ Missing files for subject199\n",
      "✅ Saved: subject200.xlsx\n",
      "✅ Saved: subject201.xlsx\n",
      "✅ Saved: subject202.xlsx\n",
      "✅ Saved: subject203.xlsx\n",
      "⚠️ Missing files for subject204\n",
      "✅ Saved: subject205.xlsx\n",
      "⚠️ Missing files for subject206\n",
      "✅ Saved: subject207.xlsx\n",
      "✅ Saved: subject208.xlsx\n",
      "✅ Saved: subject209.xlsx\n",
      "✅ Saved: subject210.xlsx\n",
      "⚠️ Missing files for subject211\n",
      "✅ Saved: subject212.xlsx\n",
      "✅ Saved: subject213.xlsx\n",
      "✅ Saved: subject214.xlsx\n",
      "✅ Saved: subject215.xlsx\n",
      "⚠️ Missing files for subject216\n",
      "✅ Saved: subject217.xlsx\n",
      "⚠️ Missing files for subject218\n",
      "✅ Saved: subject219.xlsx\n",
      "✅ Saved: subject220.xlsx\n",
      "✅ Saved: subject221.xlsx\n",
      "✅ Saved: subject222.xlsx\n",
      "✅ Saved: subject223.xlsx\n",
      "⚠️ Missing files for subject224\n",
      "⚠️ Missing files for subject225\n",
      "⚠️ Missing files for subject226\n",
      "⚠️ Missing files for subject227\n",
      "✅ Saved: subject228.xlsx\n",
      "⚠️ Missing files for subject229\n",
      "✅ Saved: subject230.xlsx\n",
      "✅ Saved: subject231.xlsx\n",
      "✅ Saved: subject232.xlsx\n",
      "✅ Saved: subject233.xlsx\n",
      "✅ Saved: subject234.xlsx\n",
      "✅ All Excel files processed!\n"
     ]
    }
   ],
   "source": [
    "\n",
    "import os\n",
    "import pandas as pd\n",
    "\n",
    "# === Folder paths ===\n",
    "features_folder = r'C:\\Users\\ENAS.DESKTOP-CSI0DAD\\Desktop\\ecg\\me\\dataset\\ECG Signal Processing and Segmentation\\features'\n",
    "labels_folder = r'C:\\Users\\ENAS.DESKTOP-CSI0DAD\\Desktop\\ecg\\me\\dataset\\ECG Signal Processing and Segmentation\\labels'\n",
    "output_folder = r'C:\\Users\\ENAS.DESKTOP-CSI0DAD\\Desktop\\ecg\\me\\dataset\\ECG Signal Processing and Segmentation\\concatenated_data_excel'\n",
    "os.makedirs(output_folder, exist_ok=True)\n",
    "\n",
    "# === Loop through all subject files ===\n",
    "for i in range(100, 235):\n",
    "    feature_file = os.path.join(features_folder, f'{i}_features.xlsx')\n",
    "    label_file = os.path.join(labels_folder, f'{i}_labels.xlsx')\n",
    "    output_file = os.path.join(output_folder, f'subject{i}.xlsx')\n",
    "\n",
    "    if os.path.exists(feature_file) and os.path.exists(label_file):\n",
    "        try:\n",
    "            # Load Excel files\n",
    "            features_df = pd.read_excel(feature_file)\n",
    "            labels_df = pd.read_excel(label_file)\n",
    "\n",
    "            # Combine features and labels column-wise\n",
    "            combined = pd.concat([features_df, labels_df], axis=1)\n",
    "\n",
    "            # Save combined data as new Excel file\n",
    "            combined.to_excel(output_file, index=False)\n",
    "            print(f\"✅ Saved: subject{i}.xlsx\")\n",
    "\n",
    "        except Exception as e:\n",
    "            print(f\"❌ Error processing subject{i}: {e}\")\n",
    "    else:\n",
    "        print(f\"⚠️ Missing files for subject{i}\")\n",
    "\n",
    "print(\"✅ All Excel files processed!\")"
   ]
  },
  {
   "cell_type": "markdown",
   "id": "87520c4b",
   "metadata": {},
   "source": [
    "# ===============================================================\n",
    "Title: ECG Label Grouping - Modify Excel Data Labels\n",
    "Description: This script reads Excel files containing ECG features \n",
    "              and labels, replaces original label values based on \n",
    "              grouping rules (N, S, V, Q), and saves the modified data.\n",
    " Input:  subjectXXX.xlsx files with labels in the last column\n",
    " Output: Modified subjectXXX.xlsx files with updated labels\n",
    " \n",
    "# ==============================================================="
   ]
  },
  {
   "cell_type": "code",
   "execution_count": 5,
   "id": "5327ec90",
   "metadata": {},
   "outputs": [
    {
     "name": "stdout",
     "output_type": "stream",
     "text": [
      "\n",
      "Processing subject100.xlsx - Shape: (2271, 31)\n",
      "✅ Saved modified file: subject100.xlsx\n",
      "\n",
      "Processing subject101.xlsx - Shape: (1872, 31)\n",
      "✅ Saved modified file: subject101.xlsx\n",
      "\n",
      "Processing subject102.xlsx - Shape: (2189, 31)\n",
      "✅ Saved modified file: subject102.xlsx\n",
      "\n",
      "Processing subject103.xlsx - Shape: (2089, 31)\n",
      "✅ Saved modified file: subject103.xlsx\n",
      "\n",
      "Processing subject104.xlsx - Shape: (2308, 31)\n",
      "✅ Saved modified file: subject104.xlsx\n",
      "\n",
      "Processing subject105.xlsx - Shape: (2690, 31)\n",
      "✅ Saved modified file: subject105.xlsx\n",
      "\n",
      "Processing subject106.xlsx - Shape: (2097, 31)\n",
      "✅ Saved modified file: subject106.xlsx\n",
      "\n",
      "Processing subject107.xlsx - Shape: (2138, 31)\n",
      "✅ Saved modified file: subject107.xlsx\n",
      "\n",
      "Processing subject108.xlsx - Shape: (1822, 31)\n",
      "✅ Saved modified file: subject108.xlsx\n",
      "\n",
      "Processing subject109.xlsx - Shape: (2532, 31)\n",
      "✅ Saved modified file: subject109.xlsx\n",
      "\n",
      "Processing subject111.xlsx - Shape: (2132, 31)\n",
      "✅ Saved modified file: subject111.xlsx\n",
      "\n",
      "Processing subject112.xlsx - Shape: (2547, 31)\n",
      "✅ Saved modified file: subject112.xlsx\n",
      "\n",
      "Processing subject113.xlsx - Shape: (1793, 31)\n",
      "✅ Saved modified file: subject113.xlsx\n",
      "\n",
      "Processing subject114.xlsx - Shape: (1889, 31)\n",
      "✅ Saved modified file: subject114.xlsx\n",
      "\n",
      "Processing subject115.xlsx - Shape: (1959, 31)\n",
      "✅ Saved modified file: subject115.xlsx\n",
      "\n",
      "Processing subject116.xlsx - Shape: (2419, 31)\n",
      "✅ Saved modified file: subject116.xlsx\n",
      "\n",
      "Processing subject117.xlsx - Shape: (1537, 31)\n",
      "✅ Saved modified file: subject117.xlsx\n",
      "\n",
      "Processing subject118.xlsx - Shape: (2299, 31)\n",
      "✅ Saved modified file: subject118.xlsx\n",
      "\n",
      "Processing subject119.xlsx - Shape: (2093, 31)\n",
      "✅ Saved modified file: subject119.xlsx\n",
      "\n",
      "Processing subject121.xlsx - Shape: (1873, 31)\n",
      "✅ Saved modified file: subject121.xlsx\n",
      "\n",
      "Processing subject122.xlsx - Shape: (2476, 31)\n",
      "✅ Saved modified file: subject122.xlsx\n",
      "\n",
      "Processing subject123.xlsx - Shape: (1517, 31)\n",
      "✅ Saved modified file: subject123.xlsx\n",
      "\n",
      "Processing subject124.xlsx - Shape: (1632, 31)\n",
      "✅ Saved modified file: subject124.xlsx\n",
      "\n",
      "Processing subject200.xlsx - Shape: (2790, 31)\n",
      "✅ Saved modified file: subject200.xlsx\n",
      "\n",
      "Processing subject201.xlsx - Shape: (2037, 31)\n",
      "✅ Saved modified file: subject201.xlsx\n",
      "\n",
      "Processing subject202.xlsx - Shape: (2145, 31)\n",
      "✅ Saved modified file: subject202.xlsx\n",
      "\n",
      "Processing subject203.xlsx - Shape: (3105, 31)\n",
      "✅ Saved modified file: subject203.xlsx\n",
      "\n",
      "Processing subject205.xlsx - Shape: (2670, 31)\n",
      "✅ Saved modified file: subject205.xlsx\n",
      "\n",
      "Processing subject207.xlsx - Shape: (2383, 31)\n",
      "✅ Saved modified file: subject207.xlsx\n",
      "\n",
      "Processing subject208.xlsx - Shape: (3037, 31)\n",
      "✅ Saved modified file: subject208.xlsx\n",
      "\n",
      "Processing subject209.xlsx - Shape: (3050, 31)\n",
      "✅ Saved modified file: subject209.xlsx\n",
      "\n",
      "Processing subject210.xlsx - Shape: (2682, 31)\n",
      "✅ Saved modified file: subject210.xlsx\n",
      "\n",
      "Processing subject212.xlsx - Shape: (2761, 31)\n",
      "✅ Saved modified file: subject212.xlsx\n",
      "\n",
      "Processing subject213.xlsx - Shape: (3291, 31)\n",
      "✅ Saved modified file: subject213.xlsx\n",
      "\n",
      "Processing subject214.xlsx - Shape: (2294, 31)\n",
      "✅ Saved modified file: subject214.xlsx\n",
      "\n",
      "Processing subject215.xlsx - Shape: (3397, 31)\n",
      "✅ Saved modified file: subject215.xlsx\n",
      "\n",
      "Processing subject217.xlsx - Shape: (2279, 31)\n",
      "✅ Saved modified file: subject217.xlsx\n",
      "\n",
      "Processing subject219.xlsx - Shape: (2312, 31)\n",
      "✅ Saved modified file: subject219.xlsx\n",
      "\n",
      "Processing subject220.xlsx - Shape: (2066, 31)\n",
      "✅ Saved modified file: subject220.xlsx\n",
      "\n",
      "Processing subject221.xlsx - Shape: (2461, 31)\n",
      "✅ Saved modified file: subject221.xlsx\n",
      "\n",
      "Processing subject222.xlsx - Shape: (2631, 31)\n",
      "✅ Saved modified file: subject222.xlsx\n",
      "\n",
      "Processing subject223.xlsx - Shape: (2641, 31)\n",
      "✅ Saved modified file: subject223.xlsx\n",
      "\n",
      "Processing subject228.xlsx - Shape: (2139, 31)\n",
      "✅ Saved modified file: subject228.xlsx\n",
      "\n",
      "Processing subject230.xlsx - Shape: (2464, 31)\n",
      "✅ Saved modified file: subject230.xlsx\n",
      "\n",
      "Processing subject231.xlsx - Shape: (2009, 31)\n",
      "✅ Saved modified file: subject231.xlsx\n",
      "\n",
      "Processing subject232.xlsx - Shape: (1815, 31)\n",
      "✅ Saved modified file: subject232.xlsx\n",
      "\n",
      "Processing subject233.xlsx - Shape: (3149, 31)\n",
      "✅ Saved modified file: subject233.xlsx\n",
      "\n",
      "Processing subject234.xlsx - Shape: (2762, 31)\n",
      "✅ Saved modified file: subject234.xlsx\n",
      "\n",
      "✅ All Excel files processed successfully.\n"
     ]
    }
   ],
   "source": [
    "\n",
    "import os\n",
    "import pandas as pd\n",
    "\n",
    "# === Define directories ===\n",
    "input_dir = r'C:\\Users\\ENAS.DESKTOP-CSI0DAD\\Desktop\\ecg\\me\\dataset\\ECG Signal Processing and Segmentation\\concatenated_data_excel'\n",
    "output_dir = r'C:\\Users\\ENAS.DESKTOP-CSI0DAD\\Desktop\\ecg\\me\\dataset\\ECG Signal Processing and Segmentation\\modified_data_excel'\n",
    "os.makedirs(output_dir, exist_ok=True)\n",
    "\n",
    "# === Define label grouping rules ===\n",
    "replace_rules = {\n",
    "    'N': ['N', 'L', 'R', 'e', 'j'],\n",
    "    'S': ['A', 'a', 'J', 'S'],\n",
    "    'V': ['V', 'E'],\n",
    "    'Q': ['/', 'f', 'Q']\n",
    "}\n",
    "\n",
    "# === Function to replace labels ===\n",
    "def replace_labels(labels, replace_rules):\n",
    "    labels = labels.astype(str)\n",
    "    for new_label, old_labels in replace_rules.items():\n",
    "        labels = labels.replace(old_labels, new_label)\n",
    "    return labels\n",
    "\n",
    "# === Loop through all subject Excel files ===\n",
    "for file_name in os.listdir(input_dir):\n",
    "    if file_name.endswith('.xlsx') and file_name.startswith('subject'):\n",
    "        input_file = os.path.join(input_dir, file_name)\n",
    "\n",
    "        try:\n",
    "            df = pd.read_excel(input_file)\n",
    "\n",
    "            print(f\"\\nProcessing {file_name} - Shape: {df.shape}\")\n",
    "\n",
    "            # Replace labels in the last column\n",
    "            df.iloc[:, -1] = replace_labels(df.iloc[:, -1], replace_rules)\n",
    "\n",
    "            # Save the modified Excel file\n",
    "            output_file = os.path.join(output_dir, file_name)\n",
    "            df.to_excel(output_file, index=False)\n",
    "            print(f\"✅ Saved modified file: {file_name}\")\n",
    "\n",
    "        except Exception as e:\n",
    "            print(f\"❌ Error processing {file_name}: {e}\")\n",
    "\n",
    "print(\"\\n✅ All Excel files processed successfully.\")"
   ]
  },
  {
   "cell_type": "markdown",
   "id": "7202dcbd",
   "metadata": {},
   "source": [
    "# Define the valid labels to keep\n",
    "**valid_labels = {'N', 'S', 'V', 'F', 'Q'}**"
   ]
  },
  {
   "cell_type": "code",
   "execution_count": 7,
   "id": "4e48f305",
   "metadata": {},
   "outputs": [
    {
     "name": "stdout",
     "output_type": "stream",
     "text": [
      "✅ Filtered and saved: subject100.xlsx\n",
      "✅ Filtered and saved: subject101.xlsx\n",
      "✅ Filtered and saved: subject102.xlsx\n",
      "✅ Filtered and saved: subject103.xlsx\n",
      "✅ Filtered and saved: subject104.xlsx\n",
      "✅ Filtered and saved: subject105.xlsx\n",
      "✅ Filtered and saved: subject106.xlsx\n",
      "✅ Filtered and saved: subject107.xlsx\n",
      "✅ Filtered and saved: subject108.xlsx\n",
      "✅ Filtered and saved: subject109.xlsx\n",
      "✅ Filtered and saved: subject111.xlsx\n",
      "✅ Filtered and saved: subject112.xlsx\n",
      "✅ Filtered and saved: subject113.xlsx\n",
      "✅ Filtered and saved: subject114.xlsx\n",
      "✅ Filtered and saved: subject115.xlsx\n",
      "✅ Filtered and saved: subject116.xlsx\n",
      "✅ Filtered and saved: subject117.xlsx\n",
      "✅ Filtered and saved: subject118.xlsx\n",
      "✅ Filtered and saved: subject119.xlsx\n",
      "✅ Filtered and saved: subject121.xlsx\n",
      "✅ Filtered and saved: subject122.xlsx\n",
      "✅ Filtered and saved: subject123.xlsx\n",
      "✅ Filtered and saved: subject124.xlsx\n",
      "✅ Filtered and saved: subject200.xlsx\n",
      "✅ Filtered and saved: subject201.xlsx\n",
      "✅ Filtered and saved: subject202.xlsx\n",
      "✅ Filtered and saved: subject203.xlsx\n",
      "✅ Filtered and saved: subject205.xlsx\n",
      "✅ Filtered and saved: subject207.xlsx\n",
      "✅ Filtered and saved: subject208.xlsx\n",
      "✅ Filtered and saved: subject209.xlsx\n",
      "✅ Filtered and saved: subject210.xlsx\n",
      "✅ Filtered and saved: subject212.xlsx\n",
      "✅ Filtered and saved: subject213.xlsx\n",
      "✅ Filtered and saved: subject214.xlsx\n",
      "✅ Filtered and saved: subject215.xlsx\n",
      "✅ Filtered and saved: subject217.xlsx\n",
      "✅ Filtered and saved: subject219.xlsx\n",
      "✅ Filtered and saved: subject220.xlsx\n",
      "✅ Filtered and saved: subject221.xlsx\n",
      "✅ Filtered and saved: subject222.xlsx\n",
      "✅ Filtered and saved: subject223.xlsx\n",
      "✅ Filtered and saved: subject228.xlsx\n",
      "✅ Filtered and saved: subject230.xlsx\n",
      "✅ Filtered and saved: subject231.xlsx\n",
      "✅ Filtered and saved: subject232.xlsx\n",
      "✅ Filtered and saved: subject233.xlsx\n",
      "✅ Filtered and saved: subject234.xlsx\n",
      "\n",
      "✅ All Excel files filtered successfully.\n"
     ]
    }
   ],
   "source": [
    "\n",
    "import os\n",
    "import pandas as pd\n",
    "import numpy as np\n",
    "\n",
    "# === Define folder paths ===\n",
    "input_dir = r'C:\\Users\\ENAS.DESKTOP-CSI0DAD\\Desktop\\ecg\\me\\dataset\\ECG Signal Processing and Segmentation\\modified_data_excel'\n",
    "output_dir = r'C:\\Users\\ENAS.DESKTOP-CSI0DAD\\Desktop\\ecg\\me\\dataset\\ECG Signal Processing and Segmentation\\filtered_data_valid_labels={N,S,V,F,Q}'\n",
    "os.makedirs(output_dir, exist_ok=True)\n",
    "\n",
    "# === Valid labels to keep ===\n",
    "valid_labels = {'N', 'S', 'V', 'F', 'Q'}\n",
    "\n",
    "# === Process all subject Excel files ===\n",
    "for file_name in os.listdir(input_dir):\n",
    "    if file_name.endswith('.xlsx') and file_name.startswith('subject'):\n",
    "        input_file = os.path.join(input_dir, file_name)\n",
    "        \n",
    "        try:\n",
    "            # Load Excel file\n",
    "            df = pd.read_excel(input_file)\n",
    "\n",
    "            # Extract labels (assumed last column)\n",
    "            labels = df.iloc[:, -1].astype(str)\n",
    "\n",
    "            # Filter rows where label is valid\n",
    "            valid_rows = labels.isin(valid_labels)\n",
    "            filtered_df = df[valid_rows]\n",
    "\n",
    "            # Save to new Excel file\n",
    "            output_file = os.path.join(output_dir, file_name)\n",
    "            filtered_df.to_excel(output_file, index=False)\n",
    "            print(f\"✅ Filtered and saved: {file_name}\")\n",
    "\n",
    "        except Exception as e:\n",
    "            print(f\"❌ Error processing {file_name}: {e}\")\n",
    "\n",
    "print(\"\\n✅ All Excel files filtered successfully.\")"
   ]
  },
  {
   "cell_type": "markdown",
   "id": "69dfa3e5",
   "metadata": {},
   "source": [
    "Read every subject*.xlsx file.\n",
    "\n",
    "Extract all rows (features + labels).\n",
    "\n",
    "Concatenate them into one big DataFrame.\n",
    "\n",
    "Save the result as a new Excel file:\n",
    "📄 combined_ecg_data.xlsx\n",
    "\n"
   ]
  },
  {
   "cell_type": "code",
   "execution_count": 1,
   "id": "05cffb25",
   "metadata": {},
   "outputs": [
    {
     "name": "stdout",
     "output_type": "stream",
     "text": [
      "✅ Loaded: subject100.xlsx\n",
      "✅ Loaded: subject101.xlsx\n",
      "✅ Loaded: subject102.xlsx\n",
      "✅ Loaded: subject103.xlsx\n",
      "✅ Loaded: subject104.xlsx\n",
      "✅ Loaded: subject105.xlsx\n",
      "✅ Loaded: subject106.xlsx\n",
      "✅ Loaded: subject107.xlsx\n",
      "✅ Loaded: subject108.xlsx\n",
      "✅ Loaded: subject109.xlsx\n",
      "✅ Loaded: subject111.xlsx\n",
      "✅ Loaded: subject112.xlsx\n",
      "✅ Loaded: subject113.xlsx\n",
      "✅ Loaded: subject114.xlsx\n",
      "✅ Loaded: subject115.xlsx\n",
      "✅ Loaded: subject116.xlsx\n",
      "✅ Loaded: subject117.xlsx\n",
      "✅ Loaded: subject118.xlsx\n",
      "✅ Loaded: subject119.xlsx\n",
      "✅ Loaded: subject121.xlsx\n",
      "✅ Loaded: subject122.xlsx\n",
      "✅ Loaded: subject123.xlsx\n",
      "✅ Loaded: subject124.xlsx\n",
      "✅ Loaded: subject200.xlsx\n",
      "✅ Loaded: subject201.xlsx\n",
      "✅ Loaded: subject202.xlsx\n",
      "✅ Loaded: subject203.xlsx\n",
      "✅ Loaded: subject205.xlsx\n",
      "✅ Loaded: subject207.xlsx\n",
      "✅ Loaded: subject208.xlsx\n",
      "✅ Loaded: subject209.xlsx\n",
      "✅ Loaded: subject210.xlsx\n",
      "✅ Loaded: subject212.xlsx\n",
      "✅ Loaded: subject213.xlsx\n",
      "✅ Loaded: subject214.xlsx\n",
      "✅ Loaded: subject215.xlsx\n",
      "✅ Loaded: subject217.xlsx\n",
      "✅ Loaded: subject219.xlsx\n",
      "✅ Loaded: subject220.xlsx\n",
      "✅ Loaded: subject221.xlsx\n",
      "✅ Loaded: subject222.xlsx\n",
      "✅ Loaded: subject223.xlsx\n",
      "✅ Loaded: subject228.xlsx\n",
      "✅ Loaded: subject230.xlsx\n",
      "✅ Loaded: subject231.xlsx\n",
      "✅ Loaded: subject232.xlsx\n",
      "✅ Loaded: subject233.xlsx\n",
      "✅ Loaded: subject234.xlsx\n",
      "\n",
      "✅ Combined data saved to: C:\\Users\\ENAS.DESKTOP-CSI0DAD\\Desktop\\ecg\\me\\dataset\\ECG Signal Processing and Segmentation\\combined_ecg_data.xlsx\n"
     ]
    }
   ],
   "source": [
    "import os\n",
    "import pandas as pd\n",
    "\n",
    "# === Define input folder and output file ===\n",
    "input_dir = r'C:\\Users\\ENAS.DESKTOP-CSI0DAD\\Desktop\\ecg\\me\\dataset\\ECG Signal Processing and Segmentation\\filtered_data_valid_labels={N,S,V,F,Q}'\n",
    "output_file = r'C:\\Users\\ENAS.DESKTOP-CSI0DAD\\Desktop\\ecg\\me\\dataset\\ECG Signal Processing and Segmentation\\combined_ecg_data.xlsx'\n",
    "\n",
    "# === Store all data here ===\n",
    "all_data = []\n",
    "\n",
    "# === Loop through Excel files and combine ===\n",
    "for file_name in os.listdir(input_dir):\n",
    "    if file_name.endswith('.xlsx') and file_name.startswith('subject'):\n",
    "        file_path = os.path.join(input_dir, file_name)\n",
    "        try:\n",
    "            df = pd.read_excel(file_path)\n",
    "            all_data.append(df)\n",
    "            print(f\"✅ Loaded: {file_name}\")\n",
    "        except Exception as e:\n",
    "            print(f\"❌ Failed to load {file_name}: {e}\")\n",
    "\n",
    "# === Combine all dataframes ===\n",
    "if all_data:\n",
    "    combined_df = pd.concat(all_data, ignore_index=True)\n",
    "    combined_df.to_excel(output_file, index=False)\n",
    "    print(f\"\\n✅ Combined data saved to: {output_file}\")\n",
    "else:\n",
    "    print(\"❌ No data files were loaded. Please check the folder path and files.\")\n"
   ]
  },
  {
   "cell_type": "markdown",
   "id": "d5860ff7",
   "metadata": {},
   "source": [
    "Count Labels from Combined File"
   ]
  },
  {
   "cell_type": "code",
   "execution_count": 2,
   "id": "b43db111",
   "metadata": {},
   "outputs": [
    {
     "name": "stdout",
     "output_type": "stream",
     "text": [
      "\n",
      "📊 Label Counts:\n",
      "Label\n",
      "N    90582\n",
      "Q     8038\n",
      "V     7235\n",
      "S     2781\n",
      "F      802\n",
      "Name: count, dtype: int64\n"
     ]
    }
   ],
   "source": [
    "import pandas as pd\n",
    "\n",
    "# === Load the combined Excel file ===\n",
    "combined_file = r'C:\\Users\\ENAS.DESKTOP-CSI0DAD\\Desktop\\ecg\\me\\dataset\\ECG Signal Processing and Segmentation\\combined_ecg_data.xlsx'\n",
    "df = pd.read_excel(combined_file)\n",
    "\n",
    "# === Get the last column (assumed to be labels) ===\n",
    "label_column = df.columns[-1]\n",
    "labels = df[label_column].astype(str)  # ensure labels are strings\n",
    "\n",
    "# === Count each label ===\n",
    "label_counts = labels.value_counts()\n",
    "\n",
    "# === Print the result ===\n",
    "print(\"\\n Label Counts:\")\n",
    "print(label_counts)\n"
   ]
  },
  {
   "cell_type": "markdown",
   "id": "fc5bd4b6",
   "metadata": {},
   "source": [
    "\n",
    "\n",
    "RandomUnderSampler to downsample 'N' from ~90k to 30k ✅\n",
    "\n",
    "SMOTE to oversample minority classes like 'F' ✅\n",
    "\n",
    "TomekLinks to clean borderline/noisy examples ✅"
   ]
  },
  {
   "cell_type": "code",
   "execution_count": 6,
   "id": "d5d8ad18",
   "metadata": {},
   "outputs": [
    {
     "name": "stdout",
     "output_type": "stream",
     "text": [
      "Initial class distribution: Counter({'N': 90582, 'Q': 8038, 'V': 7235, 'S': 2781, 'F': 802})\n",
      "After undersampling: Counter({'N': 30000, 'Q': 8038, 'V': 7235, 'S': 2781, 'F': 802})\n",
      "After SMOTE oversampling: Counter({'F': 30000, 'N': 30000, 'Q': 30000, 'S': 30000, 'V': 30000})\n",
      "After TomekLinks cleaning: Counter({'F': 30000, 'Q': 29967, 'V': 29957, 'S': 29887, 'N': 29833})\n",
      "\n",
      " Balanced data saved to Excel.\n"
     ]
    }
   ],
   "source": [
    "import pandas as pd\n",
    "import numpy as np\n",
    "from imblearn.under_sampling import RandomUnderSampler, TomekLinks\n",
    "from imblearn.over_sampling import SMOTE\n",
    "from collections import Counter\n",
    "\n",
    "# === Load the combined Excel file ===\n",
    "data_path = r'C:\\Users\\ENAS.DESKTOP-CSI0DAD\\Desktop\\ecg\\me\\dataset\\ECG Signal Processing and Segmentation\\combined_ecg_data.xlsx'\n",
    "df = pd.read_excel(data_path)\n",
    "\n",
    "# === Extract features and labels\n",
    "X = df.iloc[:, :-1].values\n",
    "y = df.iloc[:, -1].astype(str).values  # Ensure labels are strings\n",
    "\n",
    "# === Check original distribution\n",
    "print(f\"Initial class distribution: {Counter(y)}\")\n",
    "\n",
    "# === Step 1: Undersample majority class 'N'\n",
    "undersample = RandomUnderSampler(sampling_strategy={'N': 30000}, random_state=42)\n",
    "X_under, y_under = undersample.fit_resample(X, y)\n",
    "print(f\"After undersampling: {Counter(y_under)}\")\n",
    "\n",
    "# === Step 2: SMOTE to oversample minority classes\n",
    "smote = SMOTE(random_state=42)\n",
    "X_resampled, y_resampled = smote.fit_resample(X_under, y_under)\n",
    "print(f\"After SMOTE oversampling: {Counter(y_resampled)}\")\n",
    "\n",
    "# === Step 3: Clean overlapping classes using Tomek Links\n",
    "tomek = TomekLinks()\n",
    "X_cleaned, y_cleaned = tomek.fit_resample(X_resampled, y_resampled)\n",
    "print(f\"After TomekLinks cleaning: {Counter(y_cleaned)}\")\n",
    "\n",
    "# === Save only as Excel\n",
    "final_df = pd.DataFrame(np.hstack((X_cleaned, y_cleaned.reshape(-1, 1))))\n",
    "output_excel = r'C:\\Users\\ENAS.DESKTOP-CSI0DAD\\Desktop\\ecg\\me\\dataset\\ECG Signal Processing and Segmentation\\balanced_ecg_data.xlsx'\n",
    "final_df.to_excel(output_excel, index=False)\n",
    "\n",
    "# === Final Check\n",
    "print(\"\\n Balanced data saved to Excel.\")\n"
   ]
  },
  {
   "cell_type": "markdown",
   "id": "1eed200f",
   "metadata": {},
   "source": [
    "Count Labels after balancing"
   ]
  },
  {
   "cell_type": "code",
   "execution_count": 7,
   "id": "6f51e6be",
   "metadata": {},
   "outputs": [
    {
     "name": "stdout",
     "output_type": "stream",
     "text": [
      "\n",
      " Label Counts:\n",
      "30\n",
      "F    30000\n",
      "Q    29967\n",
      "V    29957\n",
      "S    29887\n",
      "N    29833\n",
      "Name: count, dtype: int64\n"
     ]
    }
   ],
   "source": [
    "import pandas as pd\n",
    "\n",
    "# === Load the combined Excel file ===\n",
    "combined_file = r'C:\\Users\\ENAS.DESKTOP-CSI0DAD\\Desktop\\ecg\\me\\dataset\\ECG Signal Processing and Segmentation\\balanced_ecg_data.xlsx'\n",
    "df = pd.read_excel(combined_file)\n",
    "\n",
    "# === Get the last column (assumed to be labels) ===\n",
    "label_column = df.columns[-1]\n",
    "labels = df[label_column].astype(str)  # ensure labels are strings\n",
    "\n",
    "# === Count each label ===\n",
    "label_counts = labels.value_counts()\n",
    "\n",
    "# === Print the result ===\n",
    "print(\"\\n Label Counts:\")\n",
    "print(label_counts)\n"
   ]
  },
  {
   "cell_type": "markdown",
   "id": "bcf8e2e7",
   "metadata": {},
   "source": [
    "Undersamples 'N' down to 8,000 samples.\n",
    "\n",
    "Oversamples minority classes (Q, V, S, F) to 8,000 samples each using SMOTE.\n",
    "\n",
    "Applies Tomek Links cleaning to remove noisy borderline samples (optional but included).\n",
    "\n",
    "\n"
   ]
  },
  {
   "cell_type": "code",
   "execution_count": 10,
   "id": "69c62891",
   "metadata": {},
   "outputs": [
    {
     "name": "stdout",
     "output_type": "stream",
     "text": [
      "Original class distribution:\n",
      "Counter({'N': 90582, 'Q': 8038, 'V': 7235, 'S': 2781, 'F': 802})\n",
      "\n",
      "After undersampling 'N':\n",
      "Counter({'Q': 8038, 'N': 8000, 'V': 7235, 'S': 2781, 'F': 802})\n",
      "\n",
      "After SMOTE oversampling:\n",
      "Counter({'Q': 8038, 'F': 8000, 'N': 8000, 'S': 8000, 'V': 8000})\n",
      "\n",
      "After Tomek Links cleaning:\n",
      "Counter({'F': 8000, 'S': 7892, 'Q': 7887, 'V': 7786, 'N': 7697})\n",
      "\n",
      "Final balanced dataset saved.\n"
     ]
    }
   ],
   "source": [
    "import pandas as pd\n",
    "import numpy as np\n",
    "from imblearn.under_sampling import RandomUnderSampler\n",
    "from imblearn.over_sampling import SMOTE\n",
    "from imblearn.under_sampling import TomekLinks\n",
    "from collections import Counter\n",
    "\n",
    "# Load your data\n",
    "data_path = r'C:\\Users\\ENAS.DESKTOP-CSI0DAD\\Desktop\\ecg\\me\\dataset\\ECG Signal Processing and Segmentation\\combined_ecg_data.xlsx'\n",
    "df = pd.read_excel(data_path)\n",
    "\n",
    "X = df.iloc[:, :-1].values\n",
    "y = df.iloc[:, -1].astype(str).values\n",
    "\n",
    "print(f\"Original class distribution:\\n{Counter(y)}\")\n",
    "\n",
    "# Set target size to 8,000\n",
    "target_size = 8000\n",
    "\n",
    "# Step 1: Undersample majority class 'N' to target_size\n",
    "undersample = RandomUnderSampler(sampling_strategy={'N': target_size}, random_state=42)\n",
    "X_under, y_under = undersample.fit_resample(X, y)\n",
    "print(f\"\\nAfter undersampling 'N':\\n{Counter(y_under)}\")\n",
    "\n",
    "# Step 2: Oversample minority classes (Q, V, S, F) up to target_size\n",
    "sampling_strategy = {\n",
    "    label: target_size\n",
    "    for label in np.unique(y_under)\n",
    "    if np.sum(y_under == label) < target_size and label != 'N'\n",
    "}\n",
    "\n",
    "smote = SMOTE(sampling_strategy=sampling_strategy, random_state=42)\n",
    "X_resampled, y_resampled = smote.fit_resample(X_under, y_under)\n",
    "print(f\"\\nAfter SMOTE oversampling:\\n{Counter(y_resampled)}\")\n",
    "\n",
    "# Step 3: Optional - Apply Tomek Links cleaning\n",
    "tomek = TomekLinks()\n",
    "X_cleaned, y_cleaned = tomek.fit_resample(X_resampled, y_resampled)\n",
    "print(f\"\\nAfter Tomek Links cleaning:\\n{Counter(y_cleaned)}\")\n",
    "\n",
    "# Step 4: Save the balanced data to Excel\n",
    "final_df = pd.DataFrame(np.hstack((X_cleaned, y_cleaned.reshape(-1, 1))))\n",
    "output_excel = r'C:\\Users\\ENAS.DESKTOP-CSI0DAD\\Desktop\\ecg\\me\\dataset\\ECG Signal Processing and Segmentation\\balanced_ecg_data_target8000_tomek.xlsx'\n",
    "final_df.to_excel(output_excel, index=False)\n",
    "\n",
    "print(\"\\nFinal balanced dataset saved.\")\n"
   ]
  },
  {
   "cell_type": "markdown",
   "id": "f4cda6a4",
   "metadata": {},
   "source": [
    "Count Labels after balancing"
   ]
  },
  {
   "cell_type": "code",
   "execution_count": 11,
   "id": "ed0eb09b",
   "metadata": {},
   "outputs": [
    {
     "name": "stdout",
     "output_type": "stream",
     "text": [
      "\n",
      " Label Counts:\n",
      "30\n",
      "F    8000\n",
      "S    7892\n",
      "Q    7887\n",
      "V    7786\n",
      "N    7697\n",
      "Name: count, dtype: int64\n"
     ]
    }
   ],
   "source": [
    "import pandas as pd\n",
    "\n",
    "# === Load the combined Excel file ===\n",
    "combined_file = r'C:\\Users\\ENAS.DESKTOP-CSI0DAD\\Desktop\\ecg\\me\\dataset\\ECG Signal Processing and Segmentation\\balanced_ecg_data_target8000_tomek.xlsx'\n",
    "df = pd.read_excel(combined_file)\n",
    "\n",
    "# === Get the last column (assumed to be labels) ===\n",
    "label_column = df.columns[-1]\n",
    "labels = df[label_column].astype(str)  # ensure labels are strings\n",
    "\n",
    "# === Count each label ===\n",
    "label_counts = labels.value_counts()\n",
    "\n",
    "# === Print the result ===\n",
    "print(\"\\n Label Counts:\")\n",
    "print(label_counts)\n"
   ]
  },
  {
   "cell_type": "markdown",
   "id": "4cae8740",
   "metadata": {},
   "source": [
    "Splits it into training/testing sets.\n",
    "\n",
    "Trains and evaluates a Random Forest classifier."
   ]
  },
  {
   "cell_type": "code",
   "execution_count": 13,
   "id": "f986457a",
   "metadata": {},
   "outputs": [
    {
     "name": "stdout",
     "output_type": "stream",
     "text": [
      "Class distribution in balanced data: Counter({'F': 8000, 'S': 7892, 'Q': 7887, 'V': 7786, 'N': 7697})\n",
      "\n",
      "Accuracy: 0.968248577977757\n",
      "Confusion Matrix:\n",
      "[[2413    9    1    0   22]\n",
      " [  10 2222    1   83   58]\n",
      " [   1    6 2292    4   14]\n",
      " [   4   83    0 2235   20]\n",
      " [  17   28    5    8 2243]]\n",
      "Classification Report:\n",
      "              precision    recall  f1-score   support\n",
      "\n",
      "           F       0.99      0.99      0.99      2445\n",
      "           N       0.95      0.94      0.94      2374\n",
      "           Q       1.00      0.99      0.99      2317\n",
      "           S       0.96      0.95      0.96      2342\n",
      "           V       0.95      0.97      0.96      2301\n",
      "\n",
      "    accuracy                           0.97     11779\n",
      "   macro avg       0.97      0.97      0.97     11779\n",
      "weighted avg       0.97      0.97      0.97     11779\n",
      "\n"
     ]
    }
   ],
   "source": [
    "import pandas as pd\n",
    "import numpy as np\n",
    "from sklearn.model_selection import train_test_split\n",
    "from sklearn.ensemble import RandomForestClassifier\n",
    "from sklearn.metrics import classification_report, accuracy_score, confusion_matrix\n",
    "from collections import Counter\n",
    "\n",
    "# Load the balanced Excel file\n",
    "data_path = r'C:\\Users\\ENAS.DESKTOP-CSI0DAD\\Desktop\\ecg\\me\\dataset\\ECG Signal Processing and Segmentation\\balanced_ecg_data_target8000_tomek.xlsx'\n",
    "df = pd.read_excel(data_path)\n",
    "\n",
    "# Extract features and labels\n",
    "X_balanced = df.iloc[:, :-1].values\n",
    "y_balanced = df.iloc[:, -1].astype(str).values  # Ensure labels are strings\n",
    "\n",
    "# Show class distribution\n",
    "print(f\"Class distribution in balanced data: {Counter(y_balanced)}\")\n",
    "\n",
    "# Split into training and test sets\n",
    "X_train, X_test, y_train, y_test = train_test_split(\n",
    "    X_balanced, y_balanced, test_size=0.3, random_state=42\n",
    ")\n",
    "\n",
    "# Train the Random Forest classifier\n",
    "clf = RandomForestClassifier(n_estimators=100, random_state=42)\n",
    "clf.fit(X_train, y_train)\n",
    "\n",
    "# Predict on test data\n",
    "y_pred = clf.predict(X_test)\n",
    "\n",
    "# Evaluate the model\n",
    "accuracy = accuracy_score(y_test, y_pred)\n",
    "conf_matrix = confusion_matrix(y_test, y_pred)\n",
    "class_report = classification_report(y_test, y_pred)\n",
    "\n",
    "# Output results\n",
    "print(f\"\\nAccuracy: {accuracy}\")\n",
    "print(\"Confusion Matrix:\")\n",
    "print(conf_matrix)\n",
    "print(\"Classification Report:\")\n",
    "print(class_report)\n"
   ]
  },
  {
   "cell_type": "markdown",
   "id": "f94c7f17",
   "metadata": {},
   "source": [
    "Load the original imbalanced dataset from the .xlsx file.\n",
    "\n",
    "Split into train and test (e.g., 70% train / 30% test).\n",
    "\n",
    "Apply balancing (undersampling + SMOTE + optional Tomek) only on the training data.\n",
    "\n",
    "Save balanced training data and raw imbalanced test data separately.\n",
    "\n"
   ]
  },
  {
   "cell_type": "code",
   "execution_count": 14,
   "id": "470f57ec",
   "metadata": {},
   "outputs": [
    {
     "name": "stdout",
     "output_type": "stream",
     "text": [
      "\n",
      "Original Train Set Distribution:\n",
      "Counter({'N': 63407, 'Q': 5627, 'V': 5064, 'S': 1947, 'F': 561})\n",
      "Original Test Set Distribution:\n",
      "Counter({'N': 27175, 'Q': 2411, 'V': 2171, 'S': 834, 'F': 241})\n",
      "\n",
      "After undersampling 'N':\n",
      "Counter({'N': 8000, 'Q': 5627, 'V': 5064, 'S': 1947, 'F': 561})\n",
      "\n",
      "After SMOTE oversampling:\n",
      "Counter({'F': 8000, 'N': 8000, 'Q': 8000, 'S': 8000, 'V': 8000})\n",
      "\n",
      "After Tomek Links cleaning:\n",
      "Counter({'F': 8000, 'Q': 7924, 'S': 7920, 'V': 7905, 'N': 7816})\n",
      "\n",
      "✅ Balanced training set and imbalanced test set saved successfully.\n"
     ]
    }
   ],
   "source": [
    "import pandas as pd\n",
    "import numpy as np\n",
    "from sklearn.model_selection import train_test_split\n",
    "from imblearn.under_sampling import RandomUnderSampler, TomekLinks\n",
    "from imblearn.over_sampling import SMOTE\n",
    "from collections import Counter\n",
    "\n",
    "# === 1. Load the original imbalanced data ===\n",
    "data_path = r'C:\\Users\\ENAS.DESKTOP-CSI0DAD\\Desktop\\ecg\\me\\dataset\\ECG Signal Processing and Segmentation\\combined_ecg_data.xlsx'\n",
    "df = pd.read_excel(data_path)\n",
    "\n",
    "# === 2. Extract features and labels ===\n",
    "X = df.iloc[:, :-1].values\n",
    "y = df.iloc[:, -1].astype(str).values  # Convert labels to strings\n",
    "\n",
    "# === 3. Split the original data into train/test before balancing ===\n",
    "X_train, X_test, y_train, y_test = train_test_split(X, y, test_size=0.3, stratify=y, random_state=42)\n",
    "\n",
    "print(f\"\\nOriginal Train Set Distribution:\\n{Counter(y_train)}\")\n",
    "print(f\"Original Test Set Distribution:\\n{Counter(y_test)}\")\n",
    "\n",
    "# === 4. Balance the training set ONLY ===\n",
    "\n",
    "# Step 1: Undersample majority class 'N' to target size\n",
    "target_size = 8000\n",
    "undersample = RandomUnderSampler(sampling_strategy={'N': target_size}, random_state=42)\n",
    "X_train_under, y_train_under = undersample.fit_resample(X_train, y_train)\n",
    "print(f\"\\nAfter undersampling 'N':\\n{Counter(y_train_under)}\")\n",
    "\n",
    "# Step 2: SMOTE oversample minority classes to target size\n",
    "sampling_strategy = {\n",
    "    label: target_size\n",
    "    for label in np.unique(y_train_under)\n",
    "    if np.sum(y_train_under == label) < target_size and label != 'N'\n",
    "}\n",
    "\n",
    "smote = SMOTE(sampling_strategy=sampling_strategy, random_state=42)\n",
    "X_train_balanced, y_train_balanced = smote.fit_resample(X_train_under, y_train_under)\n",
    "print(f\"\\nAfter SMOTE oversampling:\\n{Counter(y_train_balanced)}\")\n",
    "\n",
    "# Step 3: (Optional) Clean with Tomek Links\n",
    "tomek = TomekLinks()\n",
    "X_train_cleaned, y_train_cleaned = tomek.fit_resample(X_train_balanced, y_train_balanced)\n",
    "print(f\"\\nAfter Tomek Links cleaning:\\n{Counter(y_train_cleaned)}\")\n",
    "\n",
    "# === 5. Save the balanced training and imbalanced test sets ===\n",
    "# Save balanced training set\n",
    "train_df = pd.DataFrame(np.hstack((X_train_cleaned, y_train_cleaned.reshape(-1, 1))))\n",
    "train_output = r'C:\\Users\\ENAS.DESKTOP-CSI0DAD\\Desktop\\ecg\\me\\dataset\\ECG Signal Processing and Segmentation\\train_balanced_8000.xlsx'\n",
    "train_df.to_excel(train_output, index=False)\n",
    "\n",
    "# Save test set as-is (imbalanced)\n",
    "test_df = pd.DataFrame(np.hstack((X_test, y_test.reshape(-1, 1))))\n",
    "test_output = r'C:\\Users\\ENAS.DESKTOP-CSI0DAD\\Desktop\\ecg\\me\\dataset\\ECG Signal Processing and Segmentation\\test_imbalanced.xlsx'\n",
    "test_df.to_excel(test_output, index=False)\n",
    "\n",
    "print(\"\\n✅ Balanced training set and imbalanced test set saved successfully.\")\n"
   ]
  },
  {
   "cell_type": "markdown",
   "id": "022f6fd7",
   "metadata": {},
   "source": [
    "Count Labels "
   ]
  },
  {
   "cell_type": "code",
   "execution_count": 16,
   "id": "6fb1560f",
   "metadata": {},
   "outputs": [
    {
     "name": "stdout",
     "output_type": "stream",
     "text": [
      "\n",
      " Label Counts:\n",
      "30\n",
      "N    27175\n",
      "Q     2411\n",
      "V     2171\n",
      "S      834\n",
      "F      241\n",
      "Name: count, dtype: int64\n"
     ]
    }
   ],
   "source": [
    "import pandas as pd\n",
    "\n",
    "# === Load the combined Excel file ===\n",
    "combined_file = r'C:\\Users\\ENAS.DESKTOP-CSI0DAD\\Desktop\\ecg\\me\\dataset\\ECG Signal Processing and Segmentation\\test_imbalanced.xlsx'\n",
    "df = pd.read_excel(combined_file)\n",
    "\n",
    "# === Get the last column (assumed to be labels) ===\n",
    "label_column = df.columns[-1]\n",
    "labels = df[label_column].astype(str)  # ensure labels are strings\n",
    "\n",
    "# === Count each label ===\n",
    "label_counts = labels.value_counts()\n",
    "\n",
    "# === Print the result ===\n",
    "print(\"\\n Label Counts:\")\n",
    "print(label_counts)\n"
   ]
  },
  {
   "cell_type": "markdown",
   "id": "fb2ad696",
   "metadata": {},
   "source": [
    "Loads the balanced training set\n",
    "\n",
    "Loads the imbalanced test set\n",
    "\n",
    "Trains the model only on the balanced data\n",
    "\n",
    "Evaluates performance on real (imbalanced) test data"
   ]
  },
  {
   "cell_type": "code",
   "execution_count": 17,
   "id": "a7f8c753",
   "metadata": {},
   "outputs": [
    {
     "name": "stdout",
     "output_type": "stream",
     "text": [
      "Train class distribution: Counter({'F': 8000, 'Q': 7924, 'S': 7920, 'V': 7905, 'N': 7816})\n",
      "Test class distribution: Counter({'N': 27175, 'Q': 2411, 'V': 2171, 'S': 834, 'F': 241})\n",
      "\n",
      "Accuracy: 0.9537\n",
      "Confusion Matrix:\n",
      "[[  208    11     0     0    22]\n",
      " [  110 25875    40   500   650]\n",
      " [    2     3  2385     3    18]\n",
      " [    1    92     2   728    11]\n",
      " [   18    33     0     4  2116]]\n",
      "Classification Report:\n",
      "              precision    recall  f1-score   support\n",
      "\n",
      "           F       0.61      0.86      0.72       241\n",
      "           N       0.99      0.95      0.97     27175\n",
      "           Q       0.98      0.99      0.99      2411\n",
      "           S       0.59      0.87      0.70       834\n",
      "           V       0.75      0.97      0.85      2171\n",
      "\n",
      "    accuracy                           0.95     32832\n",
      "   macro avg       0.79      0.93      0.85     32832\n",
      "weighted avg       0.96      0.95      0.96     32832\n",
      "\n"
     ]
    }
   ],
   "source": [
    "import pandas as pd\n",
    "import numpy as np\n",
    "from sklearn.ensemble import RandomForestClassifier\n",
    "from sklearn.metrics import classification_report, accuracy_score, confusion_matrix\n",
    "from collections import Counter\n",
    "\n",
    "# === 1. Load the balanced training set ===\n",
    "train_path = r'C:\\Users\\ENAS.DESKTOP-CSI0DAD\\Desktop\\ecg\\me\\dataset\\ECG Signal Processing and Segmentation\\train_balanced_8000.xlsx'\n",
    "train_df = pd.read_excel(train_path)\n",
    "X_train = train_df.iloc[:, :-1].values\n",
    "y_train = train_df.iloc[:, -1].astype(str).values\n",
    "\n",
    "# === 2. Load the imbalanced test set ===\n",
    "test_path = r'C:\\Users\\ENAS.DESKTOP-CSI0DAD\\Desktop\\ecg\\me\\dataset\\ECG Signal Processing and Segmentation\\test_imbalanced.xlsx'\n",
    "test_df = pd.read_excel(test_path)\n",
    "X_test = test_df.iloc[:, :-1].values\n",
    "y_test = test_df.iloc[:, -1].astype(str).values\n",
    "\n",
    "# === 3. Show class distributions ===\n",
    "print(f\"Train class distribution: {Counter(y_train)}\")\n",
    "print(f\"Test class distribution: {Counter(y_test)}\")\n",
    "\n",
    "# === 4. Train the Random Forest classifier ===\n",
    "clf = RandomForestClassifier(n_estimators=100, random_state=42)\n",
    "clf.fit(X_train, y_train)\n",
    "\n",
    "# === 5. Predict on the imbalanced test data ===\n",
    "y_pred = clf.predict(X_test)\n",
    "\n",
    "# === 6. Evaluate the model ===\n",
    "accuracy = accuracy_score(y_test, y_pred)\n",
    "conf_matrix = confusion_matrix(y_test, y_pred)\n",
    "class_report = classification_report(y_test, y_pred)\n",
    "\n",
    "# === 7. Output the results ===\n",
    "print(f\"\\nAccuracy: {accuracy:.4f}\")\n",
    "print(\"Confusion Matrix:\")\n",
    "print(conf_matrix)\n",
    "print(\"Classification Report:\")\n",
    "print(class_report)\n"
   ]
  },
  {
   "cell_type": "markdown",
   "id": "9e214151",
   "metadata": {},
   "source": [
    "Add confusion matrix visualization\n",
    "Try class weights in RandomForest: class_weight='balanced'\n",
    "Analyze misclassified samples to understand model errors"
   ]
  },
  {
   "cell_type": "code",
   "execution_count": 18,
   "id": "5a37e92c",
   "metadata": {},
   "outputs": [
    {
     "name": "stdout",
     "output_type": "stream",
     "text": [
      "Train class distribution: Counter({'F': 8000, 'Q': 7924, 'S': 7920, 'V': 7905, 'N': 7816})\n",
      "Test class distribution: Counter({'N': 27175, 'Q': 2411, 'V': 2171, 'S': 834, 'F': 241})\n",
      "\n",
      "Accuracy: 0.9532\n",
      "Confusion Matrix:\n",
      "[[  212     9     0     0    20]\n",
      " [  116 25853    42   528   636]\n",
      " [    3     3  2388     2    15]\n",
      " [    3    90     2   728    11]\n",
      " [   17    35     1     5  2113]]\n",
      "Classification Report:\n",
      "              precision    recall  f1-score   support\n",
      "\n",
      "           F       0.60      0.88      0.72       241\n",
      "           N       0.99      0.95      0.97     27175\n",
      "           Q       0.98      0.99      0.99      2411\n",
      "           S       0.58      0.87      0.69       834\n",
      "           V       0.76      0.97      0.85      2171\n",
      "\n",
      "    accuracy                           0.95     32832\n",
      "   macro avg       0.78      0.93      0.84     32832\n",
      "weighted avg       0.96      0.95      0.96     32832\n",
      "\n"
     ]
    },
    {
     "data": {
      "image/png": "[encoded data removed]",
      "text/plain": [
       "<Figure size 800x600 with 2 Axes>"
      ]
     },
     "metadata": {},
     "output_type": "display_data"
    }
   ],
   "source": [
    "import pandas as pd\n",
    "import numpy as np\n",
    "import matplotlib.pyplot as plt\n",
    "import seaborn as sns\n",
    "from sklearn.ensemble import RandomForestClassifier\n",
    "from sklearn.metrics import classification_report, accuracy_score, confusion_matrix\n",
    "from collections import Counter\n",
    "\n",
    "# === Load the balanced training set ===\n",
    "train_path = r'C:\\Users\\ENAS.DESKTOP-CSI0DAD\\Desktop\\ecg\\me\\dataset\\ECG Signal Processing and Segmentation\\train_balanced_8000.xlsx'\n",
    "train_df = pd.read_excel(train_path)\n",
    "X_train = train_df.iloc[:, :-1].values\n",
    "y_train = train_df.iloc[:, -1].astype(str).values\n",
    "\n",
    "# === Load the imbalanced test set ===\n",
    "test_path = r'C:\\Users\\ENAS.DESKTOP-CSI0DAD\\Desktop\\ecg\\me\\dataset\\ECG Signal Processing and Segmentation\\test_imbalanced.xlsx'\n",
    "test_df = pd.read_excel(test_path)\n",
    "X_test = test_df.iloc[:, :-1].values\n",
    "y_test = test_df.iloc[:, -1].astype(str).values\n",
    "\n",
    "# === Show class distributions ===\n",
    "print(f\"Train class distribution: {Counter(y_train)}\")\n",
    "print(f\"Test class distribution: {Counter(y_test)}\")\n",
    "\n",
    "# === Train the Random Forest classifier with class_weight='balanced' ===\n",
    "clf = RandomForestClassifier(n_estimators=100, random_state=42, class_weight='balanced')\n",
    "clf.fit(X_train, y_train)\n",
    "\n",
    "# === Predict on test data ===\n",
    "y_pred = clf.predict(X_test)\n",
    "\n",
    "# === Evaluate the model ===\n",
    "accuracy = accuracy_score(y_test, y_pred)\n",
    "conf_matrix = confusion_matrix(y_test, y_pred, labels=['F', 'N', 'Q', 'S', 'V'])  # consistent label order\n",
    "class_report = classification_report(y_test, y_pred, labels=['F', 'N', 'Q', 'S', 'V'])\n",
    "\n",
    "# === Print results ===\n",
    "print(f\"\\nAccuracy: {accuracy:.4f}\")\n",
    "print(\"Confusion Matrix:\")\n",
    "print(conf_matrix)\n",
    "print(\"Classification Report:\")\n",
    "print(class_report)\n",
    "\n",
    "# === Confusion matrix visualization ===\n",
    "plt.figure(figsize=(8, 6))\n",
    "sns.heatmap(conf_matrix, annot=True, fmt='d', cmap='Blues',\n",
    "            xticklabels=['F', 'N', 'Q', 'S', 'V'],\n",
    "            yticklabels=['F', 'N', 'Q', 'S', 'V'])\n",
    "plt.xlabel(\"Predicted Label\")\n",
    "plt.ylabel(\"True Label\")\n",
    "plt.title(\"Confusion Matrix\")\n",
    "plt.tight_layout()\n",
    "plt.show()\n"
   ]
  }
 ],
 "metadata": {
  "kernelspec": {
   "display_name": "Python 3",
   "language": "python",
   "name": "python3"
  },
  "language_info": {
   "codemirror_mode": {
    "name": "ipython",
    "version": 3
   },
   "file_extension": ".py",
   "mimetype": "text/x-python",
   "name": "python",
   "nbconvert_exporter": "python",
   "pygments_lexer": "ipython3",
   "version": "3.13.3"
  }
 },
 "nbformat": 4,
 "nbformat_minor": 5
}
